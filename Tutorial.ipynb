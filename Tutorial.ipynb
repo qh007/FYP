{
 "cells": [
  {
   "cell_type": "code",
   "execution_count": 7,
   "metadata": {},
   "outputs": [],
   "source": [
    "import numpy as np\n",
    "from LibESN.matrix_generator import matrixGenerator\n",
    "from LibESN.esn import ESN\n",
    "\n",
    "N = 50\n",
    "K = 3\n",
    "\n",
    "esn = ESN(\n",
    "    None,\n",
    "    smap=np.tanh, \n",
    "    A=matrixGenerator((N, N), dist='sparse_uniform', sparsity=0.2, seed=1234), \n",
    "    C=matrixGenerator((N, K), dist='sparse_uniform', sparsity=0.2, seed=12345), \n",
    "    zeta=np.zeros((N, 1)), \n",
    "    rho=0.8, \n",
    "    gamma=1, \n",
    "    leak=0,\n",
    ")"
   ]
  },
  {
   "cell_type": "code",
   "execution_count": 14,
   "metadata": {},
   "outputs": [
    {
     "ename": "NameError",
     "evalue": "name 'data_A_train' is not defined",
     "output_type": "error",
     "traceback": [
      "\u001b[1;31m---------------------------------------------------------------------------\u001b[0m",
      "\u001b[1;31mNameError\u001b[0m                                 Traceback (most recent call last)",
      "Cell \u001b[1;32mIn[14], line 7\u001b[0m\n\u001b[0;32m      1\u001b[0m \u001b[38;5;28;01mfrom\u001b[39;00m \u001b[38;5;21;01mLibESN\u001b[39;00m\u001b[38;5;21;01m.\u001b[39;00m\u001b[38;5;21;01mmfesn_fit\u001b[39;00m \u001b[38;5;28;01mimport\u001b[39;00m mfRidgeFit, mfRidgeCV\n\u001b[0;32m      3\u001b[0m mfesn_simple \u001b[38;5;241m=\u001b[39m esn\n\u001b[0;32m      5\u001b[0m mfcv \u001b[38;5;241m=\u001b[39m mfRidgeCV()\u001b[38;5;241m.\u001b[39mcvHighFreq(\n\u001b[0;32m      6\u001b[0m     mfmodel\u001b[38;5;241m=\u001b[39mmfesn_simple,\n\u001b[1;32m----> 7\u001b[0m     train_data\u001b[38;5;241m=\u001b[39m((\u001b[43mdata_A_train\u001b[49m, ), data_Target_train,),\n\u001b[0;32m      8\u001b[0m     steps\u001b[38;5;241m=\u001b[39m[\u001b[38;5;241m0\u001b[39m,\u001b[38;5;241m1\u001b[39m], \u001b[38;5;66;03m# CV at HF for both nowcast and 1-step-ahead\u001b[39;00m\n\u001b[0;32m      9\u001b[0m     freqratio\u001b[38;5;241m=\u001b[39m\u001b[38;5;241m3\u001b[39m,\n\u001b[0;32m     10\u001b[0m     min_train_size\u001b[38;5;241m=\u001b[39m\u001b[38;5;241m100\u001b[39m,\n\u001b[0;32m     11\u001b[0m     test_size\u001b[38;5;241m=\u001b[39m\u001b[38;5;241m5\u001b[39m,\n\u001b[0;32m     12\u001b[0m     verbose\u001b[38;5;241m=\u001b[39m\u001b[38;5;28;01mTrue\u001b[39;00m,\n\u001b[0;32m     13\u001b[0m )\n\u001b[0;32m     15\u001b[0m Lambda \u001b[38;5;241m=\u001b[39m [\n\u001b[0;32m     16\u001b[0m     mfcv[\u001b[38;5;124m'\u001b[39m\u001b[38;5;124mcvLambda\u001b[39m\u001b[38;5;124m'\u001b[39m][\u001b[38;5;241m0\u001b[39m][\u001b[38;5;124m'\u001b[39m\u001b[38;5;124mL\u001b[39m\u001b[38;5;124m'\u001b[39m],\n\u001b[0;32m     17\u001b[0m     mfcv[\u001b[38;5;124m'\u001b[39m\u001b[38;5;124mcvLambda\u001b[39m\u001b[38;5;124m'\u001b[39m][\u001b[38;5;241m1\u001b[39m][\u001b[38;5;124m'\u001b[39m\u001b[38;5;124mL\u001b[39m\u001b[38;5;124m'\u001b[39m]\n\u001b[0;32m     18\u001b[0m ]\n\u001b[0;32m     20\u001b[0m mfesn_fit \u001b[38;5;241m=\u001b[39m mfesn_simple\u001b[38;5;241m.\u001b[39mfitDirectHighFreq(\n\u001b[0;32m     21\u001b[0m     train_data\u001b[38;5;241m=\u001b[39m((data_A_train, ), data_Target_train,), \n\u001b[0;32m     22\u001b[0m     method\u001b[38;5;241m=\u001b[39mmfRidgeFit(Lambda_hf),\n\u001b[0;32m     23\u001b[0m     steps\u001b[38;5;241m=\u001b[39m[\u001b[38;5;241m0\u001b[39m,\u001b[38;5;241m1\u001b[39m],\n\u001b[0;32m     24\u001b[0m     freqratio\u001b[38;5;241m=\u001b[39m\u001b[38;5;241m3\u001b[39m,\n\u001b[0;32m     25\u001b[0m )\n",
      "\u001b[1;31mNameError\u001b[0m: name 'data_A_train' is not defined"
     ]
    }
   ],
   "source": [
    "# fitting\n",
    "from LibESN.mfesn_fit import mfRidgeFit, mfRidgeCV\n",
    "\n",
    "mfcv = mfRidgeCV().cvHighFreq(\n",
    "    mfmodel=esn,\n",
    "    train_data=((data_A_train, ), data_Target_train,),\n",
    "    steps=[0,1], # CV at HF for both nowcast and 1-step-ahead\n",
    "    freqratio=3,\n",
    "    min_train_size=100,\n",
    "    test_size=5,\n",
    "    verbose=True,\n",
    ")\n",
    "\n",
    "Lambda = [\n",
    "    mfcv['cvLambda'][0]['L'],\n",
    "    mfcv['cvLambda'][1]['L']\n",
    "]\n",
    "\n",
    "mfesn_fit = mfesn_simple.fitDirectHighFreq(\n",
    "    train_data=((data_A_train, ), data_Target_train,), \n",
    "    method=mfRidgeFit(Lambda_hf),\n",
    "    steps=[0,1],\n",
    "    freqratio=3,\n",
    ")"
   ]
  }
 ],
 "metadata": {
  "kernelspec": {
   "display_name": "Python 3",
   "language": "python",
   "name": "python3"
  },
  "language_info": {
   "codemirror_mode": {
    "name": "ipython",
    "version": 3
   },
   "file_extension": ".py",
   "mimetype": "text/x-python",
   "name": "python",
   "nbconvert_exporter": "python",
   "pygments_lexer": "ipython3",
   "version": "3.11.5"
  }
 },
 "nbformat": 4,
 "nbformat_minor": 2
}
