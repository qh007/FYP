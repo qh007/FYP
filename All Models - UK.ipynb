{
 "cells": [
  {
   "cell_type": "markdown",
   "metadata": {},
   "source": [
    "### Load Data & libraries"
   ]
  },
  {
   "cell_type": "code",
   "execution_count": 165,
   "metadata": {},
   "outputs": [],
   "source": [
    "import numpy as np\n",
    "import pandas as pd\n",
    "from pandas import read_csv\n",
    "import matplotlib.pyplot as plt\n",
    "import math\n",
    "from sklearn.metrics import mean_squared_error, mean_absolute_error\n",
    "from skforecast.ForecasterAutoregDirect import ForecasterAutoregDirect\n",
    "from sklearn.linear_model import LinearRegression\n",
    "import statsmodels.api as sm\n",
    "from statsmodels.tsa.arima.model import ARIMA\n",
    "from sklearn.model_selection import train_test_split\n",
    "from statsmodels.tsa.ar_model import AutoReg\n",
    "from tqdm import tqdm\n",
    "import time\n",
    "import seaborn as sns\n",
    "import warnings\n",
    "\n",
    "# import LibESN\n",
    "from LibESN.matrix_generator import matrixGenerator\n",
    "from LibESN.esn import ESN\n",
    "from LibESN.esn_fit import ridgeFit, ridgeCV\n",
    "from LibESN.esn_forecast import forecast\n",
    "from ModelConfidenceSet import ModelConfidenceSet\n"
   ]
  },
  {
   "cell_type": "code",
   "execution_count": 166,
   "metadata": {},
   "outputs": [
    {
     "name": "stderr",
     "output_type": "stream",
     "text": [
      "C:\\Users\\zhouq\\AppData\\Local\\Temp\\ipykernel_20076\\3243038370.py:2: UserWarning: Could not infer format, so each element will be parsed individually, falling back to `dateutil`. To ensure parsing is consistent and as-expected, please specify a format.\n",
      "  data = read_csv(r\"C:\\Users\\zhouq\\OneDrive - Nanyang Technological University\\FYP\\Codes\\FYP\\Data\\UK_transformed.csv\", header = 0, index_col=0, parse_dates=True, dayfirst=False)\n"
     ]
    },
    {
     "data": {
      "text/html": [
       "<div>\n",
       "<style scoped>\n",
       "    .dataframe tbody tr th:only-of-type {\n",
       "        vertical-align: middle;\n",
       "    }\n",
       "\n",
       "    .dataframe tbody tr th {\n",
       "        vertical-align: top;\n",
       "    }\n",
       "\n",
       "    .dataframe thead th {\n",
       "        text-align: right;\n",
       "    }\n",
       "</style>\n",
       "<table border=\"1\" class=\"dataframe\">\n",
       "  <thead>\n",
       "    <tr style=\"text-align: right;\">\n",
       "      <th></th>\n",
       "      <th>GDP</th>\n",
       "      <th>CPI</th>\n",
       "      <th>Ex</th>\n",
       "      <th>CPA</th>\n",
       "    </tr>\n",
       "  </thead>\n",
       "  <tbody>\n",
       "    <tr>\n",
       "      <th>1997-09-30</th>\n",
       "      <td>0.009249</td>\n",
       "      <td>0.224503</td>\n",
       "      <td>2.2919</td>\n",
       "      <td>0.559616</td>\n",
       "    </tr>\n",
       "    <tr>\n",
       "      <th>1997-12-31</th>\n",
       "      <td>0.014646</td>\n",
       "      <td>-0.181944</td>\n",
       "      <td>1.2111</td>\n",
       "      <td>-0.336472</td>\n",
       "    </tr>\n",
       "    <tr>\n",
       "      <th>1998-03-31</th>\n",
       "      <td>0.007234</td>\n",
       "      <td>-0.063179</td>\n",
       "      <td>2.1186</td>\n",
       "      <td>-0.223144</td>\n",
       "    </tr>\n",
       "    <tr>\n",
       "      <th>1998-06-30</th>\n",
       "      <td>0.006353</td>\n",
       "      <td>0.259511</td>\n",
       "      <td>-0.1129</td>\n",
       "      <td>0.559616</td>\n",
       "    </tr>\n",
       "    <tr>\n",
       "      <th>1998-09-30</th>\n",
       "      <td>0.003260</td>\n",
       "      <td>-0.267879</td>\n",
       "      <td>-0.3436</td>\n",
       "      <td>0.000000</td>\n",
       "    </tr>\n",
       "    <tr>\n",
       "      <th>...</th>\n",
       "      <td>...</td>\n",
       "      <td>...</td>\n",
       "      <td>...</td>\n",
       "      <td>...</td>\n",
       "    </tr>\n",
       "    <tr>\n",
       "      <th>2018-12-31</th>\n",
       "      <td>0.001276</td>\n",
       "      <td>-0.135424</td>\n",
       "      <td>-0.0208</td>\n",
       "      <td>-0.175891</td>\n",
       "    </tr>\n",
       "    <tr>\n",
       "      <th>2019-03-31</th>\n",
       "      <td>0.007255</td>\n",
       "      <td>-0.063179</td>\n",
       "      <td>0.9578</td>\n",
       "      <td>0.143101</td>\n",
       "    </tr>\n",
       "    <tr>\n",
       "      <th>2019-06-30</th>\n",
       "      <td>0.003221</td>\n",
       "      <td>0.259511</td>\n",
       "      <td>-0.3673</td>\n",
       "      <td>-0.182322</td>\n",
       "    </tr>\n",
       "    <tr>\n",
       "      <th>2019-09-30</th>\n",
       "      <td>0.007255</td>\n",
       "      <td>-0.210721</td>\n",
       "      <td>-2.6054</td>\n",
       "      <td>-0.040822</td>\n",
       "    </tr>\n",
       "    <tr>\n",
       "      <th>2019-12-31</th>\n",
       "      <td>-0.000225</td>\n",
       "      <td>-0.145954</td>\n",
       "      <td>3.6390</td>\n",
       "      <td>0.117783</td>\n",
       "    </tr>\n",
       "  </tbody>\n",
       "</table>\n",
       "<p>90 rows × 4 columns</p>\n",
       "</div>"
      ],
      "text/plain": [
       "                 GDP       CPI      Ex       CPA\n",
       "1997-09-30  0.009249  0.224503  2.2919  0.559616\n",
       "1997-12-31  0.014646 -0.181944  1.2111 -0.336472\n",
       "1998-03-31  0.007234 -0.063179  2.1186 -0.223144\n",
       "1998-06-30  0.006353  0.259511 -0.1129  0.559616\n",
       "1998-09-30  0.003260 -0.267879 -0.3436  0.000000\n",
       "...              ...       ...     ...       ...\n",
       "2018-12-31  0.001276 -0.135424 -0.0208 -0.175891\n",
       "2019-03-31  0.007255 -0.063179  0.9578  0.143101\n",
       "2019-06-30  0.003221  0.259511 -0.3673 -0.182322\n",
       "2019-09-30  0.007255 -0.210721 -2.6054 -0.040822\n",
       "2019-12-31 -0.000225 -0.145954  3.6390  0.117783\n",
       "\n",
       "[90 rows x 4 columns]"
      ]
     },
     "metadata": {},
     "output_type": "display_data"
    },
    {
     "data": {
      "text/html": [
       "<div>\n",
       "<style scoped>\n",
       "    .dataframe tbody tr th:only-of-type {\n",
       "        vertical-align: middle;\n",
       "    }\n",
       "\n",
       "    .dataframe tbody tr th {\n",
       "        vertical-align: top;\n",
       "    }\n",
       "\n",
       "    .dataframe thead th {\n",
       "        text-align: right;\n",
       "    }\n",
       "</style>\n",
       "<table border=\"1\" class=\"dataframe\">\n",
       "  <thead>\n",
       "    <tr style=\"text-align: right;\">\n",
       "      <th></th>\n",
       "      <th>GDP</th>\n",
       "    </tr>\n",
       "  </thead>\n",
       "  <tbody>\n",
       "    <tr>\n",
       "      <th>1997-09-30</th>\n",
       "      <td>0.009249</td>\n",
       "    </tr>\n",
       "    <tr>\n",
       "      <th>1997-12-31</th>\n",
       "      <td>0.014646</td>\n",
       "    </tr>\n",
       "    <tr>\n",
       "      <th>1998-03-31</th>\n",
       "      <td>0.007234</td>\n",
       "    </tr>\n",
       "    <tr>\n",
       "      <th>1998-06-30</th>\n",
       "      <td>0.006353</td>\n",
       "    </tr>\n",
       "    <tr>\n",
       "      <th>1998-09-30</th>\n",
       "      <td>0.003260</td>\n",
       "    </tr>\n",
       "    <tr>\n",
       "      <th>...</th>\n",
       "      <td>...</td>\n",
       "    </tr>\n",
       "    <tr>\n",
       "      <th>2018-12-31</th>\n",
       "      <td>0.001276</td>\n",
       "    </tr>\n",
       "    <tr>\n",
       "      <th>2019-03-31</th>\n",
       "      <td>0.007255</td>\n",
       "    </tr>\n",
       "    <tr>\n",
       "      <th>2019-06-30</th>\n",
       "      <td>0.003221</td>\n",
       "    </tr>\n",
       "    <tr>\n",
       "      <th>2019-09-30</th>\n",
       "      <td>0.007255</td>\n",
       "    </tr>\n",
       "    <tr>\n",
       "      <th>2019-12-31</th>\n",
       "      <td>-0.000225</td>\n",
       "    </tr>\n",
       "  </tbody>\n",
       "</table>\n",
       "<p>90 rows × 1 columns</p>\n",
       "</div>"
      ],
      "text/plain": [
       "                 GDP\n",
       "1997-09-30  0.009249\n",
       "1997-12-31  0.014646\n",
       "1998-03-31  0.007234\n",
       "1998-06-30  0.006353\n",
       "1998-09-30  0.003260\n",
       "...              ...\n",
       "2018-12-31  0.001276\n",
       "2019-03-31  0.007255\n",
       "2019-06-30  0.003221\n",
       "2019-09-30  0.007255\n",
       "2019-12-31 -0.000225\n",
       "\n",
       "[90 rows x 1 columns]"
      ]
     },
     "metadata": {},
     "output_type": "display_data"
    },
    {
     "data": {
      "text/html": [
       "<div>\n",
       "<style scoped>\n",
       "    .dataframe tbody tr th:only-of-type {\n",
       "        vertical-align: middle;\n",
       "    }\n",
       "\n",
       "    .dataframe tbody tr th {\n",
       "        vertical-align: top;\n",
       "    }\n",
       "\n",
       "    .dataframe thead th {\n",
       "        text-align: right;\n",
       "    }\n",
       "</style>\n",
       "<table border=\"1\" class=\"dataframe\">\n",
       "  <thead>\n",
       "    <tr style=\"text-align: right;\">\n",
       "      <th></th>\n",
       "      <th>CPI</th>\n",
       "      <th>Ex</th>\n",
       "      <th>CPA</th>\n",
       "    </tr>\n",
       "  </thead>\n",
       "  <tbody>\n",
       "    <tr>\n",
       "      <th>1997-09-30</th>\n",
       "      <td>0.224503</td>\n",
       "      <td>2.2919</td>\n",
       "      <td>0.559616</td>\n",
       "    </tr>\n",
       "    <tr>\n",
       "      <th>1997-12-31</th>\n",
       "      <td>-0.181944</td>\n",
       "      <td>1.2111</td>\n",
       "      <td>-0.336472</td>\n",
       "    </tr>\n",
       "    <tr>\n",
       "      <th>1998-03-31</th>\n",
       "      <td>-0.063179</td>\n",
       "      <td>2.1186</td>\n",
       "      <td>-0.223144</td>\n",
       "    </tr>\n",
       "    <tr>\n",
       "      <th>1998-06-30</th>\n",
       "      <td>0.259511</td>\n",
       "      <td>-0.1129</td>\n",
       "      <td>0.559616</td>\n",
       "    </tr>\n",
       "    <tr>\n",
       "      <th>1998-09-30</th>\n",
       "      <td>-0.267879</td>\n",
       "      <td>-0.3436</td>\n",
       "      <td>0.000000</td>\n",
       "    </tr>\n",
       "    <tr>\n",
       "      <th>...</th>\n",
       "      <td>...</td>\n",
       "      <td>...</td>\n",
       "      <td>...</td>\n",
       "    </tr>\n",
       "    <tr>\n",
       "      <th>2014-06-30</th>\n",
       "      <td>0.171850</td>\n",
       "      <td>1.3346</td>\n",
       "      <td>-0.133531</td>\n",
       "    </tr>\n",
       "    <tr>\n",
       "      <th>2014-09-30</th>\n",
       "      <td>-0.064539</td>\n",
       "      <td>1.1055</td>\n",
       "      <td>0.046520</td>\n",
       "    </tr>\n",
       "    <tr>\n",
       "      <th>2014-12-31</th>\n",
       "      <td>-0.245616</td>\n",
       "      <td>-0.7224</td>\n",
       "      <td>0.000000</td>\n",
       "    </tr>\n",
       "    <tr>\n",
       "      <th>2015-03-31</th>\n",
       "      <td>-0.701446</td>\n",
       "      <td>2.0988</td>\n",
       "      <td>0.241162</td>\n",
       "    </tr>\n",
       "    <tr>\n",
       "      <th>2015-06-30</th>\n",
       "      <td>0.723919</td>\n",
       "      <td>1.7926</td>\n",
       "      <td>0.035091</td>\n",
       "    </tr>\n",
       "  </tbody>\n",
       "</table>\n",
       "<p>72 rows × 3 columns</p>\n",
       "</div>"
      ],
      "text/plain": [
       "                 CPI      Ex       CPA\n",
       "1997-09-30  0.224503  2.2919  0.559616\n",
       "1997-12-31 -0.181944  1.2111 -0.336472\n",
       "1998-03-31 -0.063179  2.1186 -0.223144\n",
       "1998-06-30  0.259511 -0.1129  0.559616\n",
       "1998-09-30 -0.267879 -0.3436  0.000000\n",
       "...              ...     ...       ...\n",
       "2014-06-30  0.171850  1.3346 -0.133531\n",
       "2014-09-30 -0.064539  1.1055  0.046520\n",
       "2014-12-31 -0.245616 -0.7224  0.000000\n",
       "2015-03-31 -0.701446  2.0988  0.241162\n",
       "2015-06-30  0.723919  1.7926  0.035091\n",
       "\n",
       "[72 rows x 3 columns]"
      ]
     },
     "metadata": {},
     "output_type": "display_data"
    },
    {
     "data": {
      "text/html": [
       "<div>\n",
       "<style scoped>\n",
       "    .dataframe tbody tr th:only-of-type {\n",
       "        vertical-align: middle;\n",
       "    }\n",
       "\n",
       "    .dataframe tbody tr th {\n",
       "        vertical-align: top;\n",
       "    }\n",
       "\n",
       "    .dataframe thead th {\n",
       "        text-align: right;\n",
       "    }\n",
       "</style>\n",
       "<table border=\"1\" class=\"dataframe\">\n",
       "  <thead>\n",
       "    <tr style=\"text-align: right;\">\n",
       "      <th></th>\n",
       "      <th>CPI</th>\n",
       "      <th>Ex</th>\n",
       "      <th>CPA</th>\n",
       "    </tr>\n",
       "  </thead>\n",
       "  <tbody>\n",
       "    <tr>\n",
       "      <th>2015-09-30</th>\n",
       "      <td>0.575364</td>\n",
       "      <td>1.6697</td>\n",
       "      <td>0.033902</td>\n",
       "    </tr>\n",
       "    <tr>\n",
       "      <th>2015-12-31</th>\n",
       "      <td>-0.287682</td>\n",
       "      <td>-0.7070</td>\n",
       "      <td>-0.105361</td>\n",
       "    </tr>\n",
       "    <tr>\n",
       "      <th>2016-03-31</th>\n",
       "      <td>0.559616</td>\n",
       "      <td>-5.1812</td>\n",
       "      <td>-0.076961</td>\n",
       "    </tr>\n",
       "    <tr>\n",
       "      <th>2016-06-30</th>\n",
       "      <td>-0.559616</td>\n",
       "      <td>-1.4510</td>\n",
       "      <td>-0.040822</td>\n",
       "    </tr>\n",
       "    <tr>\n",
       "      <th>2016-09-30</th>\n",
       "      <td>0.356675</td>\n",
       "      <td>-6.6960</td>\n",
       "      <td>0.040822</td>\n",
       "    </tr>\n",
       "    <tr>\n",
       "      <th>2016-12-31</th>\n",
       "      <td>0.048790</td>\n",
       "      <td>-2.2542</td>\n",
       "      <td>0.039221</td>\n",
       "    </tr>\n",
       "    <tr>\n",
       "      <th>2017-03-31</th>\n",
       "      <td>-0.022473</td>\n",
       "      <td>0.4878</td>\n",
       "      <td>-0.080043</td>\n",
       "    </tr>\n",
       "    <tr>\n",
       "      <th>2017-06-30</th>\n",
       "      <td>-0.215938</td>\n",
       "      <td>0.9004</td>\n",
       "      <td>-0.042560</td>\n",
       "    </tr>\n",
       "    <tr>\n",
       "      <th>2017-09-30</th>\n",
       "      <td>-0.129314</td>\n",
       "      <td>-1.3870</td>\n",
       "      <td>0.042560</td>\n",
       "    </tr>\n",
       "    <tr>\n",
       "      <th>2017-12-31</th>\n",
       "      <td>-0.001373</td>\n",
       "      <td>1.1407</td>\n",
       "      <td>0.189242</td>\n",
       "    </tr>\n",
       "    <tr>\n",
       "      <th>2018-03-31</th>\n",
       "      <td>-0.149696</td>\n",
       "      <td>1.3219</td>\n",
       "      <td>-0.148420</td>\n",
       "    </tr>\n",
       "    <tr>\n",
       "      <th>2018-06-30</th>\n",
       "      <td>-0.014505</td>\n",
       "      <td>0.0745</td>\n",
       "      <td>-0.127833</td>\n",
       "    </tr>\n",
       "    <tr>\n",
       "      <th>2018-09-30</th>\n",
       "      <td>0.172285</td>\n",
       "      <td>-1.2937</td>\n",
       "      <td>0.342945</td>\n",
       "    </tr>\n",
       "    <tr>\n",
       "      <th>2018-12-31</th>\n",
       "      <td>-0.135424</td>\n",
       "      <td>-0.0208</td>\n",
       "      <td>-0.175891</td>\n",
       "    </tr>\n",
       "    <tr>\n",
       "      <th>2019-03-31</th>\n",
       "      <td>-0.063179</td>\n",
       "      <td>0.9578</td>\n",
       "      <td>0.143101</td>\n",
       "    </tr>\n",
       "    <tr>\n",
       "      <th>2019-06-30</th>\n",
       "      <td>0.259511</td>\n",
       "      <td>-0.3673</td>\n",
       "      <td>-0.182322</td>\n",
       "    </tr>\n",
       "    <tr>\n",
       "      <th>2019-09-30</th>\n",
       "      <td>-0.210721</td>\n",
       "      <td>-2.6054</td>\n",
       "      <td>-0.040822</td>\n",
       "    </tr>\n",
       "    <tr>\n",
       "      <th>2019-12-31</th>\n",
       "      <td>-0.145954</td>\n",
       "      <td>3.6390</td>\n",
       "      <td>0.117783</td>\n",
       "    </tr>\n",
       "  </tbody>\n",
       "</table>\n",
       "</div>"
      ],
      "text/plain": [
       "                 CPI      Ex       CPA\n",
       "2015-09-30  0.575364  1.6697  0.033902\n",
       "2015-12-31 -0.287682 -0.7070 -0.105361\n",
       "2016-03-31  0.559616 -5.1812 -0.076961\n",
       "2016-06-30 -0.559616 -1.4510 -0.040822\n",
       "2016-09-30  0.356675 -6.6960  0.040822\n",
       "2016-12-31  0.048790 -2.2542  0.039221\n",
       "2017-03-31 -0.022473  0.4878 -0.080043\n",
       "2017-06-30 -0.215938  0.9004 -0.042560\n",
       "2017-09-30 -0.129314 -1.3870  0.042560\n",
       "2017-12-31 -0.001373  1.1407  0.189242\n",
       "2018-03-31 -0.149696  1.3219 -0.148420\n",
       "2018-06-30 -0.014505  0.0745 -0.127833\n",
       "2018-09-30  0.172285 -1.2937  0.342945\n",
       "2018-12-31 -0.135424 -0.0208 -0.175891\n",
       "2019-03-31 -0.063179  0.9578  0.143101\n",
       "2019-06-30  0.259511 -0.3673 -0.182322\n",
       "2019-09-30 -0.210721 -2.6054 -0.040822\n",
       "2019-12-31 -0.145954  3.6390  0.117783"
      ]
     },
     "metadata": {},
     "output_type": "display_data"
    }
   ],
   "source": [
    "# Load data\n",
    "data = read_csv(r\"C:\\Users\\zhouq\\OneDrive - Nanyang Technological University\\FYP\\Codes\\FYP\\Data\\UK_transformed.csv\", header = 0, index_col=0, parse_dates=True, dayfirst=False)\n",
    "\n",
    "# Select 3 exogenous variables \n",
    "# RPI, UnE, Ex\n",
    "\n",
    "# data_new = data[['GDP', 'M1', 'M7','M12']]\n",
    "data_new = data.dropna()\n",
    "\n",
    "# change the index to datatime\n",
    "date_tuples = [(int(date.split()[0]), int(date.split()[1][1])) for date in data_new.index]\n",
    "start_date = pd.Timestamp(year=date_tuples[0][0], month=(date_tuples[0][1] - 1) * 3 + 1, day=1)\n",
    "end_date = pd.Timestamp(year=date_tuples[-1][0], month=(date_tuples[-1][1] - 1) * 3 + 1, day=1) + pd.offsets.QuarterEnd()\n",
    "date_index = pd.date_range(start=start_date, end=end_date, freq='Q')\n",
    "data_new.index = date_index\n",
    "\n",
    "# select data before 2020\n",
    "data_new = data_new[data_new.index < '2020-01-01']\n",
    "data_new = data_new[['GDP', 'CPI', 'Ex', 'CPA']]\n",
    "display(data_new)\n",
    "\n",
    "# Split the data into training and testing sets\n",
    "train_size = int(len(data_new) * 0.8)\n",
    "\n",
    "data_new_train, data_new_test = data_new[:train_size], data_new[train_size:]\n",
    "\n",
    "# Separate GDP into individual dataframes\n",
    "GDP_fill_data  = pd.DataFrame(data_new['GDP'])\n",
    "GDP_fill_data.index = GDP_fill_data.index + pd.offsets.QuarterEnd(0)\n",
    "GDP_fill_data_train, GDP_fill_data_test = GDP_fill_data[:train_size], GDP_fill_data[train_size:]\n",
    "display(GDP_fill_data)\n",
    "\n",
    "# Exogenous variables \n",
    "x_data = pd.DataFrame(data_new.iloc[:, 1:])\n",
    "x_data.index = x_data.index + pd.offsets.QuarterEnd(0)\n",
    "x_data.index = pd.date_range(start=x_data.index[0], periods=len(x_data), freq='Q-DEC')\n",
    "x_train, x_test = x_data[:train_size], x_data[train_size:]\n",
    "display(x_train)\n",
    "display(x_test)\n"
   ]
  },
  {
   "cell_type": "code",
   "execution_count": 167,
   "metadata": {},
   "outputs": [],
   "source": [
    "def normalize_train_test(train, test, return_mu_sig=False):\n",
    "    m_train = train.mean()\n",
    "    s_train = (train - train.mean()).std()\n",
    "    if return_mu_sig:\n",
    "        return (train - m_train)/s_train, (test - m_train)/s_train, m_train, s_train\n",
    "    else:\n",
    "        return (train - m_train)/s_train, (test - m_train)/s_train\n",
    "    "
   ]
  },
  {
   "cell_type": "code",
   "execution_count": 168,
   "metadata": {},
   "outputs": [
    {
     "data": {
      "text/plain": [
       "[<matplotlib.lines.Line2D at 0x213adf7a250>]"
      ]
     },
     "execution_count": 168,
     "metadata": {},
     "output_type": "execute_result"
    },
    {
     "data": {
      "image/png": "[encoded data removed]",
      "text/plain": [
       "<Figure size 800x200 with 1 Axes>"
      ]
     },
     "metadata": {},
     "output_type": "display_data"
    }
   ],
   "source": [
    "# plot dataset\n",
    "plt.figure(figsize=(8,2))\n",
    "plt.plot(GDP_fill_data_train, label = 'Train')\n",
    "plt.plot(GDP_fill_data_test, label = 'Test', color = 'black')"
   ]
  },
  {
   "cell_type": "code",
   "execution_count": 169,
   "metadata": {},
   "outputs": [
    {
     "data": {
      "image/png": "[encoded data removed]",
      "text/plain": [
       "<Figure size 640x480 with 2 Axes>"
      ]
     },
     "metadata": {},
     "output_type": "display_data"
    }
   ],
   "source": [
    "# check correlations between variables\n",
    "corr_matrix_all = sns.heatmap(data.corr(), annot=False)"
   ]
  },
  {
   "cell_type": "code",
   "execution_count": 170,
   "metadata": {},
   "outputs": [
    {
     "data": {
      "image/png": "[encoded data removed]",
      "text/plain": [
       "<Figure size 640x480 with 2 Axes>"
      ]
     },
     "metadata": {},
     "output_type": "display_data"
    }
   ],
   "source": [
    "corr_matrix = sns.heatmap(data_new.corr(), annot=True)"
   ]
  },
  {
   "cell_type": "markdown",
   "metadata": {},
   "source": [
    "### Models"
   ]
  },
  {
   "cell_type": "markdown",
   "metadata": {},
   "source": [
    "#### ESN"
   ]
  },
  {
   "cell_type": "code",
   "execution_count": 171,
   "metadata": {},
   "outputs": [
    {
     "name": "stdout",
     "output_type": "stream",
     "text": [
      "3\n"
     ]
    }
   ],
   "source": [
    "# construct individual ESN\n",
    "# K is size of inputs \n",
    "K = int(x_data.shape[1])\n",
    "print(int(x_data.shape[1]))\n",
    "\n",
    "# ESN with reservoir dim = 20 , sparsity = 10/20 (50%)\n",
    "esn_a = ESN(\n",
    "    None,\n",
    "    smap=np.tanh, \n",
    "    A=matrixGenerator((20 , 20), dist='sparse_normal', normalize= 'eig', sparsity=10/20, seed=1234), \n",
    "\n",
    "    C=matrixGenerator((20, K), dist='sparse_uniform', normalize='norm2', sparsity=10/20, seed=1234), \n",
    "\n",
    "    zeta=np.zeros((20, 1)), \n",
    "    rho=0.5, \n",
    "    gamma=1, \n",
    "    leak=0,\n",
    ")\n"
   ]
  },
  {
   "cell_type": "code",
   "execution_count": 172,
   "metadata": {},
   "outputs": [],
   "source": [
    "# build single reservoir ESN with reservoir dim = 30, sparsity = 10/30 (33.3%)\n",
    "\n",
    "esn_b = ESN(\n",
    "    None,\n",
    "    smap=np.tanh, \n",
    "    A=matrixGenerator((30, 30), dist='sparse_normal', normalize= 'eig', sparsity=10/30, seed=1234), \n",
    "\n",
    "    C=matrixGenerator((30, K), dist='sparse_uniform', sparsity=10/30, normalize='norm2', seed=1234), \n",
    "\n",
    "    zeta=np.zeros((30, 1)), \n",
    "    rho=0.5, \n",
    "    gamma=1, \n",
    "    leak=0,\n",
    ")\n"
   ]
  },
  {
   "cell_type": "code",
   "execution_count": 173,
   "metadata": {},
   "outputs": [],
   "source": [
    "# ESN with reservoir dim = 80 , sparsity = 10/80 (12.5%)\n",
    "esn_c = ESN(\n",
    "    None,\n",
    "    smap=np.tanh, \n",
    "    A=matrixGenerator((80 , 80), dist='sparse_normal', normalize= 'eig', sparsity=10/80, seed=1234), \n",
    "\n",
    "    C=matrixGenerator((80, K), dist='sparse_uniform', normalize='norm2', sparsity=10/80, seed=1234), \n",
    "\n",
    "    zeta=np.zeros((80, 1)), \n",
    "    rho=0.5, \n",
    "    gamma=1, \n",
    "    leak=0,\n",
    ")\n"
   ]
  },
  {
   "cell_type": "code",
   "execution_count": 174,
   "metadata": {},
   "outputs": [],
   "source": [
    "# ESN with reservoir dim = 120, sparsity = 10/120 (8.3%)\n",
    "esn_d = ESN(\n",
    "    None,\n",
    "    smap=np.tanh, \n",
    "    A=matrixGenerator((120, 120), dist='sparse_normal', sparsity=10/120, normalize= 'eig', seed=1234), \n",
    "\n",
    "    C=matrixGenerator((120, K), dist='sparse_uniform', sparsity=10/120, normalize='norm2', seed=1234), \n",
    "\n",
    "    zeta=np.zeros((120, 1)), \n",
    "    rho=0.5, \n",
    "    gamma=1, \n",
    "    leak=0,\n",
    ")\n"
   ]
  },
  {
   "cell_type": "code",
   "execution_count": 175,
   "metadata": {},
   "outputs": [],
   "source": [
    "esn_e = ESN(\n",
    "    None,\n",
    "    smap=np.tanh, \n",
    "    A=matrixGenerator((150, 150), dist='sparse_normal', sparsity=10/150, normalize= 'eig', seed=1234), \n",
    "\n",
    "    C=matrixGenerator((150, K), dist='sparse_uniform', sparsity=10/150, normalize='norm2', seed=1234), \n",
    "\n",
    "    zeta=np.zeros((150, 1)), \n",
    "    rho=0.5, \n",
    "    gamma=1, \n",
    "    leak=0,\n",
    ")"
   ]
  },
  {
   "cell_type": "markdown",
   "metadata": {},
   "source": [
    "#### ARX"
   ]
  },
  {
   "cell_type": "code",
   "execution_count": 176,
   "metadata": {},
   "outputs": [],
   "source": [
    "order = (1, 0, 0)  # AR(1)\n",
    "arx_model = ARIMA(endog=GDP_fill_data_train, exog=x_train, order=order)\n",
    "arx_fit = arx_model.fit(method='yule_walker')"
   ]
  },
  {
   "cell_type": "markdown",
   "metadata": {},
   "source": [
    "#### VAR"
   ]
  },
  {
   "cell_type": "code",
   "execution_count": 177,
   "metadata": {},
   "outputs": [
    {
     "data": {
      "text/html": [
       "<table class=\"simpletable\">\n",
       "<caption>VAR Order Selection (* highlights the minimums)</caption>\n",
       "<tr>\n",
       "  <td></td>      <th>AIC</th>         <th>BIC</th>         <th>FPE</th>        <th>HQIC</th>    \n",
       "</tr>\n",
       "<tr>\n",
       "  <th>0</th> <td>    -14.85</td>  <td>    -14.72</td>  <td> 3.537e-07</td>  <td>    -14.80</td> \n",
       "</tr>\n",
       "<tr>\n",
       "  <th>1</th> <td>    -15.48</td>  <td>    -14.80*</td> <td> 1.899e-07</td>  <td>    -15.21</td> \n",
       "</tr>\n",
       "<tr>\n",
       "  <th>2</th> <td>    -15.86*</td> <td>    -14.65</td>  <td> 1.304e-07*</td> <td>    -15.38*</td>\n",
       "</tr>\n",
       "<tr>\n",
       "  <th>3</th> <td>    -15.82</td>  <td>    -14.07</td>  <td> 1.377e-07</td>  <td>    -15.13</td> \n",
       "</tr>\n",
       "<tr>\n",
       "  <th>4</th> <td>    -15.70</td>  <td>    -13.41</td>  <td> 1.596e-07</td>  <td>    -14.80</td> \n",
       "</tr>\n",
       "<tr>\n",
       "  <th>5</th> <td>    -15.62</td>  <td>    -12.79</td>  <td> 1.817e-07</td>  <td>    -14.51</td> \n",
       "</tr>\n",
       "<tr>\n",
       "  <th>6</th> <td>    -15.45</td>  <td>    -12.07</td>  <td> 2.328e-07</td>  <td>    -14.12</td> \n",
       "</tr>\n",
       "<tr>\n",
       "  <th>7</th> <td>    -15.13</td>  <td>    -11.21</td>  <td> 3.580e-07</td>  <td>    -13.59</td> \n",
       "</tr>\n",
       "<tr>\n",
       "  <th>8</th> <td>    -15.03</td>  <td>    -10.58</td>  <td> 4.581e-07</td>  <td>    -13.28</td> \n",
       "</tr>\n",
       "</table>"
      ],
      "text/latex": [
       "\\begin{center}\n",
       "\\begin{tabular}{lcccc}\n",
       "\\toprule\n",
       "           & \\textbf{AIC} & \\textbf{BIC} & \\textbf{FPE} & \\textbf{HQIC}  \\\\\n",
       "\\midrule\n",
       "\\textbf{0} &      -14.85  &      -14.72  &   3.537e-07  &       -14.80   \\\\\n",
       "\\textbf{1} &      -15.48  &     -14.80*  &   1.899e-07  &       -15.21   \\\\\n",
       "\\textbf{2} &     -15.86*  &      -14.65  &  1.304e-07*  &      -15.38*   \\\\\n",
       "\\textbf{3} &      -15.82  &      -14.07  &   1.377e-07  &       -15.13   \\\\\n",
       "\\textbf{4} &      -15.70  &      -13.41  &   1.596e-07  &       -14.80   \\\\\n",
       "\\textbf{5} &      -15.62  &      -12.79  &   1.817e-07  &       -14.51   \\\\\n",
       "\\textbf{6} &      -15.45  &      -12.07  &   2.328e-07  &       -14.12   \\\\\n",
       "\\textbf{7} &      -15.13  &      -11.21  &   3.580e-07  &       -13.59   \\\\\n",
       "\\textbf{8} &      -15.03  &      -10.58  &   4.581e-07  &       -13.28   \\\\\n",
       "\\bottomrule\n",
       "\\end{tabular}\n",
       "%\\caption{VAR Order Selection (* highlights the minimums)}\n",
       "\\end{center}"
      ],
      "text/plain": [
       "<class 'statsmodels.iolib.table.SimpleTable'>"
      ]
     },
     "execution_count": 177,
     "metadata": {},
     "output_type": "execute_result"
    }
   ],
   "source": [
    "# choose an optimal lag \n",
    "var_model = sm.tsa.VAR(data_new_train)\n",
    "var_lag = var_model.select_order(maxlags=8)\n",
    "var_lag.summary()\n",
    "# lowest BIC for lag 1"
   ]
  },
  {
   "cell_type": "code",
   "execution_count": 178,
   "metadata": {},
   "outputs": [
    {
     "data": {
      "text/plain": [
       "  Summary of Regression Results   \n",
       "==================================\n",
       "Model:                         VAR\n",
       "Method:                        OLS\n",
       "Date:           Tue, 02, Apr, 2024\n",
       "Time:                     03:05:14\n",
       "--------------------------------------------------------------------\n",
       "No. of Equations:         4.00000    BIC:                   -14.8696\n",
       "Nobs:                     71.0000    HQIC:                  -15.2535\n",
       "Log likelihood:           167.519    FPE:                1.84422e-07\n",
       "AIC:                     -15.5070    Det(Omega_mle):     1.40472e-07\n",
       "--------------------------------------------------------------------\n",
       "Results for equation GDP\n",
       "=========================================================================\n",
       "            coefficient       std. error           t-stat            prob\n",
       "-------------------------------------------------------------------------\n",
       "const          0.001763         0.000695            2.537           0.011\n",
       "L1.GDP         0.648165         0.092109            7.037           0.000\n",
       "L1.CPI         0.002284         0.002266            1.008           0.314\n",
       "L1.Ex          0.000464         0.000278            1.671           0.095\n",
       "L1.CPA        -0.001065         0.002452           -0.434           0.664\n",
       "=========================================================================\n",
       "\n",
       "Results for equation CPI\n",
       "=========================================================================\n",
       "            coefficient       std. error           t-stat            prob\n",
       "-------------------------------------------------------------------------\n",
       "const         -0.029734         0.037912           -0.784           0.433\n",
       "L1.GDP         3.721139         5.023504            0.741           0.459\n",
       "L1.CPI        -0.338078         0.123598           -2.735           0.006\n",
       "L1.Ex          0.000116         0.015147            0.008           0.994\n",
       "L1.CPA         0.110703         0.133744            0.828           0.408\n",
       "=========================================================================\n",
       "\n",
       "Results for equation Ex\n",
       "=========================================================================\n",
       "            coefficient       std. error           t-stat            prob\n",
       "-------------------------------------------------------------------------\n",
       "const         -0.472681         0.310111           -1.524           0.127\n",
       "L1.GDP        83.840958        41.090807            2.040           0.041\n",
       "L1.CPI        -0.884471         1.010994           -0.875           0.382\n",
       "L1.Ex          0.235395         0.123897            1.900           0.057\n",
       "L1.CPA        -0.919638         1.093987           -0.841           0.401\n",
       "=========================================================================\n",
       "\n",
       "Results for equation CPA\n",
       "=========================================================================\n",
       "            coefficient       std. error           t-stat            prob\n",
       "-------------------------------------------------------------------------\n",
       "const          0.029934         0.032492            0.921           0.357\n",
       "L1.GDP        -3.349123         4.305277           -0.778           0.437\n",
       "L1.CPI        -0.049042         0.105927           -0.463           0.643\n",
       "L1.Ex          0.006331         0.012981            0.488           0.626\n",
       "L1.CPA        -0.189582         0.114622           -1.654           0.098\n",
       "=========================================================================\n",
       "\n",
       "Correlation matrix of residuals\n",
       "            GDP       CPI        Ex       CPA\n",
       "GDP    1.000000  0.059512  0.269745 -0.093150\n",
       "CPI    0.059512  1.000000 -0.053358 -0.082117\n",
       "Ex     0.269745 -0.053358  1.000000 -0.153605\n",
       "CPA   -0.093150 -0.082117 -0.153605  1.000000\n",
       "\n"
      ]
     },
     "execution_count": 178,
     "metadata": {},
     "output_type": "execute_result"
    }
   ],
   "source": [
    "var_fit = var_model.fit(1)\n",
    "var_fit.summary()"
   ]
  },
  {
   "cell_type": "code",
   "execution_count": 179,
   "metadata": {},
   "outputs": [
    {
     "name": "stdout",
     "output_type": "stream",
     "text": [
      "GDP : 1.85\n",
      "CPI : 2.11\n",
      "Ex : 1.8\n",
      "CPA : 2.07\n"
     ]
    }
   ],
   "source": [
    "# Check for autocorrelation\n",
    "# A value near 2 indicates non-autocorrelation; a value toward 0 indicates positive autocorrelation; a value toward 4 indicates negative autocorrelation\n",
    "\n",
    "from statsmodels.stats.stattools import durbin_watson\n",
    "out_dw = durbin_watson(var_fit.resid)\n",
    "\n",
    "for col, val in zip(data_new[:train_size].columns, out_dw):\n",
    "    print((col), ':', round(val, 2))"
   ]
  },
  {
   "cell_type": "markdown",
   "metadata": {},
   "source": [
    "### Model Fitting and Fixed Parameter Forecast"
   ]
  },
  {
   "cell_type": "markdown",
   "metadata": {},
   "source": [
    "##### ESN"
   ]
  },
  {
   "cell_type": "code",
   "execution_count": 180,
   "metadata": {},
   "outputs": [],
   "source": [
    "def esn_fit(esnModel, GDP_data, exo_data):\n",
    "    GDP_train, GDP_test = GDP_data[0], GDP_data[1]\n",
    "    exo_train, exo_test = exo_data[0], exo_data[1]\n",
    "\n",
    "    #normalize data\n",
    "    GDP_train, GDP_test, GDP_mu_train, GDP_sig_train = (\n",
    "        normalize_train_test(GDP_train, GDP_test,\n",
    "            return_mu_sig=True))\n",
    "    exo_train, exo_test = normalize_train_test(exo_train, exo_test)\n",
    "\n",
    "    #cross validation to find lambda\n",
    "    cv = ridgeCV().cv(model= esnModel, train_data=(exo_train, GDP_train), steps = 1, test_size = 5 )\n",
    "\n",
    "    #fit model\n",
    "    esnSingle_fit = esnModel.fit(train_data = (exo_train, GDP_train), method= ridgeFit(cv['cvLambda']), steps =1)\n",
    "\n",
    "    #forecast\n",
    "    esnSingle_for = forecast(model = esnModel, forecast_data=exo_test, fit=esnSingle_fit)\n",
    "\n",
    "    # Compute pointwise forecasts by undoing normalization\n",
    "    esn_forecast = (esnSingle_for['forecast'])* GDP_sig_train.to_numpy() + GDP_mu_train.to_numpy()\n",
    "\n",
    "    # plot \n",
    "    plt.figure(figsize=(8,2))\n",
    "    plt.plot(data_new.index[:len(GDP_train)], GDP_train, label='Train')\n",
    "    plt.plot(data_new.index[len(GDP_train):],GDP_test, label='Test')\n",
    "    plt.plot(data_new.index[len(GDP_train):], esn_forecast[0:len(GDP_test)], label='Predictions')\n",
    "    plt.grid()\n",
    "    plt.legend(loc='upper left')\n",
    "    plt.show()\n",
    "\n",
    "    #find RMSE\n",
    "    mse = mean_squared_error(GDP_data[1], esn_forecast[0:len(GDP_test)])\n",
    "    mae = mean_absolute_error(GDP_data[1], esn_forecast[0:len(GDP_test)])\n",
    "    rmse = math.sqrt(mse)\n",
    "    \n",
    "    #output\n",
    "    return({'Lambda': cv['cvLambda'], 'rmse': rmse, 'MAE':mae,'forecast': esn_forecast})\n",
    "\n",
    "                            "
   ]
  },
  {
   "cell_type": "code",
   "execution_count": 181,
   "metadata": {},
   "outputs": [],
   "source": [
    "# hyperparameter tuning -- to find the best rho and gamma\n",
    "def esn_fit_tune(GDP_data, exo_data):\n",
    "    train_size = int(len(GDP_data)*0.8)\n",
    "    GDP_train, GDP_test = GDP_data[:train_size], GDP_data[train_size:]\n",
    "    exo_train, exo_test = exo_data[:train_size], exo_data[train_size:]\n",
    "\n",
    "    #normalize data\n",
    "    GDP_train, GDP_test, GDP_mu_train, GDP_sig_train = (\n",
    "        normalize_train_test(GDP_train, GDP_test,\n",
    "            return_mu_sig=True))\n",
    "    exo_train, exo_test = normalize_train_test(exo_train, exo_test)\n",
    "\n",
    "    lambdas_cv = np.zeros((10,10))\n",
    "    rmse_cv = np.zeros((10,10))\n",
    "\n",
    "    i_index = 0\n",
    "    j_index = 0\n",
    "    for i in [0.1, 0.2, 0.3, 0.4, 0.5, 0.6, 0.7, 0.8, 0.9, 1]:\n",
    "        j_index = 0\n",
    "        for j in [0.1, 0.2, 0.3, 0.4, 0.5, 0.6, 0.7, 0.8, 0.9, 1]:\n",
    "            # setup ESN\n",
    "            esnModel = ESN(\n",
    "            None,\n",
    "            smap=np.tanh, \n",
    "            A=matrixGenerator((80, 80), dist='sparse_normal', sparsity=10/80, normalize= 'eig', seed=1234), \n",
    "\n",
    "            C=matrixGenerator((80, K), dist='sparse_uniform', sparsity=10/80, normalize='norm2', seed=1234), \n",
    "\n",
    "            zeta=np.zeros((80, 1)), \n",
    "            rho=i, \n",
    "            gamma=j, \n",
    "            leak=0,\n",
    "            )\n",
    "            \n",
    "            #cross validation to find lambda\n",
    "            cv = ridgeCV().cv(model= esnModel, train_data=(exo_train, GDP_train), steps = 1, test_size = 5 )\n",
    "\n",
    "            #fit model\n",
    "            esn_fit = esnModel.fit(train_data = (exo_train, GDP_train), method= ridgeFit(cv['cvLambda']), steps =1)\n",
    "\n",
    "            #forecast for train data\n",
    "            esn_for = forecast(model = esnModel, forecast_data=exo_test, fit=esn_fit)\n",
    "\n",
    "            # Compute pointwise forecasts by undoing normalization\n",
    "            esn_forecast = (esn_for['forecast'])* GDP_sig_train.to_numpy() + GDP_mu_train.to_numpy()\n",
    "\n",
    "            #find RMSE\n",
    "            mse = mean_squared_error(GDP_test, esn_forecast[0:len(GDP_test)])\n",
    "            mae = mean_absolute_error(GDP_test, esn_forecast[0:len(GDP_test)])\n",
    "            rmse = math.sqrt(mse)\n",
    "\n",
    "            lambdas_cv[i_index , j_index] = (round(cv['cvLambda'],5))\n",
    "            rmse_cv[i_index , j_index] = (round(rmse,6))\n",
    "\n",
    "            j_index = j_index + 1\n",
    "        i_index = i_index+1\n",
    "        \n",
    "\n",
    "    min_index = np.unravel_index(np.argmin(rmse_cv, axis=None), rmse_cv.shape)\n",
    "    min_value = rmse_cv[min_index]\n",
    "    print('Min RMSE is: ', min_value)\n",
    "    print('Best rho and gamma index is: ', min_index)\n",
    "    return{'rmse': rmse, 'lambda':lambdas_cv}\n",
    "        \n",
    "                            "
   ]
  },
  {
   "cell_type": "code",
   "execution_count": 182,
   "metadata": {},
   "outputs": [],
   "source": [
    "# tune once \n",
    "# esn_cv = esn_fit_tune(GDP_data= GDP_fill_data_train, exo_data= x_train)"
   ]
  },
  {
   "cell_type": "code",
   "execution_count": 183,
   "metadata": {},
   "outputs": [
    {
     "name": "stdout",
     "output_type": "stream",
     "text": [
      "rho is: 0.5\n",
      "gamma is: 1\n"
     ]
    }
   ],
   "source": [
    "print('rho is:' ,[0.1, 0.2, 0.3, 0.4, 0.5, 0.6, 0.7, 0.8, 0.9, 1][4])\n",
    "print('gamma is:', [0.1, 0.2, 0.3, 0.4, 0.5, 0.6, 0.7, 0.8, 0.9, 1][9])"
   ]
  },
  {
   "cell_type": "code",
   "execution_count": 184,
   "metadata": {},
   "outputs": [
    {
     "data": {
      "image/png": "[encoded data removed]",
      "text/plain": [
       "<Figure size 800x200 with 1 Axes>"
      ]
     },
     "metadata": {},
     "output_type": "display_data"
    }
   ],
   "source": [
    "esn_fit_a = esn_fit(esn_a, GDP_data= [GDP_fill_data_train, GDP_fill_data_test], exo_data=[x_train,x_test])"
   ]
  },
  {
   "cell_type": "code",
   "execution_count": 185,
   "metadata": {},
   "outputs": [
    {
     "data": {
      "image/png": "[encoded data removed]",
      "text/plain": [
       "<Figure size 800x200 with 1 Axes>"
      ]
     },
     "metadata": {},
     "output_type": "display_data"
    }
   ],
   "source": [
    "esn_fit_b = esn_fit(esn_b, GDP_data= [GDP_fill_data_train, GDP_fill_data_test], exo_data=[x_train,x_test])"
   ]
  },
  {
   "cell_type": "code",
   "execution_count": 186,
   "metadata": {},
   "outputs": [
    {
     "data": {
      "image/png": "[encoded data removed]",
      "text/plain": [
       "<Figure size 800x200 with 1 Axes>"
      ]
     },
     "metadata": {},
     "output_type": "display_data"
    }
   ],
   "source": [
    "esn_fit_c = esn_fit(esn_c, GDP_data= [GDP_fill_data_train, GDP_fill_data_test], exo_data=[x_train,x_test])"
   ]
  },
  {
   "cell_type": "code",
   "execution_count": 187,
   "metadata": {},
   "outputs": [
    {
     "data": {
      "image/png": "[encoded data removed]",
      "text/plain": [
       "<Figure size 800x200 with 1 Axes>"
      ]
     },
     "metadata": {},
     "output_type": "display_data"
    }
   ],
   "source": [
    "esn_fit_d = esn_fit(esn_d, GDP_data= [GDP_fill_data_train, GDP_fill_data_test], exo_data=[x_train,x_test])"
   ]
  },
  {
   "cell_type": "code",
   "execution_count": 188,
   "metadata": {},
   "outputs": [
    {
     "data": {
      "image/png": "[encoded data removed]",
      "text/plain": [
       "<Figure size 800x200 with 1 Axes>"
      ]
     },
     "metadata": {},
     "output_type": "display_data"
    }
   ],
   "source": [
    "esn_fit_e = esn_fit(esn_e, GDP_data= [GDP_fill_data_train, GDP_fill_data_test], exo_data=[x_train,x_test])"
   ]
  },
  {
   "cell_type": "code",
   "execution_count": 189,
   "metadata": {},
   "outputs": [
    {
     "name": "stdout",
     "output_type": "stream",
     "text": [
      "------ RMSE -------\n",
      "ESN_A \t = 0.002824 \t\n",
      "ESN_B \t = 0.00277 \t\n",
      "ESN_C \t = 0.002888 \t\n",
      "ESN_D \t = 0.002731 \t\n",
      "ESN_E \t = 0.002909 \t\n"
     ]
    }
   ],
   "source": [
    "rmse_a = esn_fit_a['rmse']\n",
    "rmse_b = esn_fit_b['rmse']\n",
    "rmse_c = esn_fit_c['rmse']\n",
    "rmse_d = esn_fit_d['rmse']\n",
    "rmse_e = esn_fit_e['rmse']\n",
    "print(\"------ RMSE -------\")\n",
    "print(f\"ESN_A \\t = {round(rmse_a,6)} \\t\")\n",
    "print(f\"ESN_B \\t = {round(rmse_b,6)} \\t\")\n",
    "print(f\"ESN_C \\t = {round(rmse_c,6)} \\t\")\n",
    "print(f\"ESN_D \\t = {round(rmse_d,6)} \\t\")\n",
    "print(f\"ESN_E \\t = {round(rmse_e,6)} \\t\")"
   ]
  },
  {
   "cell_type": "code",
   "execution_count": 190,
   "metadata": {},
   "outputs": [
    {
     "data": {
      "image/png": "[encoded data removed]",
      "text/plain": [
       "<Figure size 800x200 with 1 Axes>"
      ]
     },
     "metadata": {},
     "output_type": "display_data"
    }
   ],
   "source": [
    "# Plot the actual vs. predicted values\n",
    "plt.figure(figsize=(8,2))\n",
    "plt.plot(data_new.index[:len(GDP_fill_data_train)], GDP_fill_data_train, label='Train')\n",
    "plt.plot(data_new.index[len(GDP_fill_data_train):],GDP_fill_data_test, label='Test')\n",
    "plt.plot(data_new.index[len(GDP_fill_data_train):], esn_fit_a['forecast'][0:len(GDP_fill_data_test)], label='A')\n",
    "plt.plot(data_new.index[len(GDP_fill_data_train):], esn_fit_b['forecast'][0:len(GDP_fill_data_test)], label='B')\n",
    "plt.plot(data_new.index[len(GDP_fill_data_train):], esn_fit_c['forecast'][0:len(GDP_fill_data_test)], label='C')\n",
    "plt.plot(data_new.index[len(GDP_fill_data_train):], esn_fit_d['forecast'][0:len(GDP_fill_data_test)], label='D')\n",
    "plt.legend(bbox_to_anchor=(-0.01, -0.5), loc='lower left', ncol =6)\n",
    "plt.title(\"1-Step-ahead Forecast for ESN\")\n",
    "plt.show()"
   ]
  },
  {
   "cell_type": "markdown",
   "metadata": {},
   "source": [
    "#### ARX"
   ]
  },
  {
   "cell_type": "code",
   "execution_count": 191,
   "metadata": {},
   "outputs": [
    {
     "name": "stdout",
     "output_type": "stream",
     "text": [
      "MSE: 7.539297986448428e-06\n",
      "MAE: 0.002212938538586317\n",
      "RMSE: 0.002745778211445423\n"
     ]
    }
   ],
   "source": [
    "# make predictions - one step ahead forecast\n",
    "arx_forecast = arx_fit.predict(start=len(x_train), end=len(data_new)-1, exog=x_test)\n",
    "\n",
    "# Evaluate the model \n",
    "mse_arx = mean_squared_error(GDP_fill_data_test, arx_forecast)\n",
    "print('MSE: '+str(mse_arx))\n",
    "\n",
    "mae_arx = mean_absolute_error(GDP_fill_data_test, arx_forecast)\n",
    "print('MAE: '+str(mae_arx))\n",
    "\n",
    "rmse_arx = math.sqrt(mse_arx)\n",
    "print('RMSE: '+str(rmse_arx))"
   ]
  },
  {
   "cell_type": "code",
   "execution_count": 192,
   "metadata": {},
   "outputs": [
    {
     "data": {
      "image/png": "[encoded data removed]",
      "text/plain": [
       "<Figure size 800x200 with 1 Axes>"
      ]
     },
     "metadata": {},
     "output_type": "display_data"
    }
   ],
   "source": [
    "# Plot the actual vs. predicted values\n",
    "plt.figure(figsize=(8,2))\n",
    "plt.plot(data_new.index[:len(x_train)], GDP_fill_data_train, label='Train')\n",
    "plt.plot(data_new.index[len(x_train):], GDP_fill_data_test, label='Test')\n",
    "plt.plot(data_new.index[len(x_train):], arx_forecast, label='Predictions')\n",
    "plt.title(\"1-Step-ahead Forecast for ARX\")\n",
    "plt.legend(bbox_to_anchor=(0, -0.5), loc='lower left', ncol =3)\n",
    "plt.show()"
   ]
  },
  {
   "cell_type": "markdown",
   "metadata": {},
   "source": [
    "#### VAR"
   ]
  },
  {
   "cell_type": "code",
   "execution_count": 193,
   "metadata": {},
   "outputs": [
    {
     "name": "stdout",
     "output_type": "stream",
     "text": [
      "1\n"
     ]
    }
   ],
   "source": [
    "lag_order = var_fit.k_ar\n",
    "print(lag_order)\n",
    "\n",
    "# one step ahead GDP forecast\n",
    "var_forecast = np.zeros((len(GDP_fill_data_test),4))\n",
    "\n",
    "for i in range(len(GDP_fill_data_test)):\n",
    "    if i > 0:\n",
    "        var_fore = var_fit.forecast(data_new_test.values[[i-1]], 1)\n",
    "        var_forecast[i]= var_fore\n",
    "    else:\n",
    "        var_fore = var_fit.forecast(data_new_train.values[-lag_order:], 1)\n",
    "        var_forecast[i]= var_fore\n"
   ]
  },
  {
   "cell_type": "code",
   "execution_count": 194,
   "metadata": {},
   "outputs": [
    {
     "name": "stdout",
     "output_type": "stream",
     "text": [
      "[0.00801713 0.0063682  0.00463311 0.00306487 0.00347939 0.00183585\n",
      " 0.00490487 0.00746315 0.00589257 0.00488512 0.00675258 0.00256145\n",
      " 0.00297945 0.00334353 0.00245916 0.00661371 0.00446753 0.00481836]\n",
      "RMSE: 0.0031164804860199396\n"
     ]
    }
   ],
   "source": [
    "print(var_forecast[:,0])\n",
    "rmse_var = np.sqrt(mean_squared_error(GDP_fill_data_test,var_forecast[:,0]))\n",
    "print('RMSE: '+str(rmse_var))"
   ]
  },
  {
   "cell_type": "code",
   "execution_count": 195,
   "metadata": {},
   "outputs": [
    {
     "data": {
      "image/png": "[encoded data removed]",
      "text/plain": [
       "<Figure size 800x200 with 1 Axes>"
      ]
     },
     "metadata": {},
     "output_type": "display_data"
    }
   ],
   "source": [
    "# Plot the actual vs. predicted values\n",
    "plt.figure(figsize=(8,2))\n",
    "plt.plot(data_new.index[:len(x_train)], GDP_fill_data_train, label='Train')\n",
    "plt.plot(data_new.index[len(x_train):], GDP_fill_data_test, label='Test')\n",
    "plt.plot(data_new.index[len(x_train):], var_forecast[:,0], label='Predictions')\n",
    "plt.title(\"1-Step-ahead Forecast for VAR\")\n",
    "plt.legend(bbox_to_anchor=(0, -0.5), loc='lower left', ncol =3)\n",
    "plt.show()"
   ]
  },
  {
   "cell_type": "markdown",
   "metadata": {},
   "source": [
    "#### Summary of RMSE"
   ]
  },
  {
   "cell_type": "code",
   "execution_count": 196,
   "metadata": {},
   "outputs": [
    {
     "name": "stdout",
     "output_type": "stream",
     "text": [
      "------ RMSE -------\n",
      "ESN_A \t = 0.002824 \t\n",
      "ESN_B \t = 0.00277 \t\n",
      "ESN_C \t = 0.002888 \t\n",
      "ESN_D \t = 0.002731 \t\n",
      "ESN_E \t = 0.002909 \t\n",
      "ARX \t = 0.002746 \t\n",
      "VAR \t = 0.003116 \t\n"
     ]
    }
   ],
   "source": [
    "rmse_a = esn_fit_a['rmse']\n",
    "rmse_b = esn_fit_b['rmse']\n",
    "rmse_c = esn_fit_c['rmse']\n",
    "rmse_d = esn_fit_d['rmse']\n",
    "rmse_e = esn_fit_e['rmse']\n",
    "print(\"------ RMSE -------\")\n",
    "print(f\"ESN_A \\t = {round(rmse_a,6)} \\t\")\n",
    "print(f\"ESN_B \\t = {round(rmse_b,6)} \\t\")\n",
    "print(f\"ESN_C \\t = {round(rmse_c,6)} \\t\")\n",
    "print(f\"ESN_D \\t = {round(rmse_d,6)} \\t\")\n",
    "print(f\"ESN_E \\t = {round(rmse_e,6)} \\t\")\n",
    "print(f\"ARX \\t = {round(rmse_arx,6)} \\t\")\n",
    "print(f\"VAR \\t = {round(rmse_var,6)} \\t\")"
   ]
  },
  {
   "cell_type": "markdown",
   "metadata": {},
   "source": [
    "### Expanding window forecast"
   ]
  },
  {
   "cell_type": "markdown",
   "metadata": {},
   "source": [
    "#### ESN "
   ]
  },
  {
   "cell_type": "code",
   "execution_count": 197,
   "metadata": {},
   "outputs": [],
   "source": [
    "def esn_ew_fit(esnModel, Lambda, GDP_data, x_data, retune=False):\n",
    "    GDP_fill_data_train = GDP_data[0]\n",
    "    GDP_fill_data_test = GDP_data[1]\n",
    "\n",
    "    x_train = x_data[0]\n",
    "    x_test = x_data[1]\n",
    "\n",
    "    GDP_test_dates = GDP_fill_data_test.index\n",
    "\n",
    "    # calculate lambdas\n",
    "    if retune:\n",
    "        Lambdas = []\n",
    "    else:\n",
    "        Lambdas = Lambda\n",
    "\n",
    "    forecast_ew = np.zeros((len(GDP_fill_data_test), 1))\n",
    "    for j in tqdm(range(len(GDP_fill_data_test)), desc=\"EW\", position=1, leave=False):\n",
    "        if j > 0:\n",
    "            #update data sets    \n",
    "            GDP_fill_data_train_j = pd.concat([\n",
    "                GDP_fill_data_train, \n",
    "                GDP_fill_data_test.iloc[0:j,]\n",
    "            ])\n",
    "            x_train_j = pd.concat([\n",
    "                x_train, \n",
    "                x_test.iloc[0:j,]\n",
    "            ])\n",
    "            GDP_fill_data_test_j = GDP_fill_data_test.iloc[[j],]\n",
    "            x_test_j = x_test.iloc[[j],]\n",
    "        else:\n",
    "            GDP_fill_data_train_j = GDP_fill_data_train\n",
    "            x_train_j = x_train\n",
    "            GDP_fill_data_test_j = GDP_fill_data_test.iloc[[0],]\n",
    "            x_test_j = x_test.iloc[[0],]\n",
    "\n",
    "        # Normalize\n",
    "        GDP_fill_data_train_j, GDP_fill_data_test_j, mu_j, sig_j = (\n",
    "            normalize_train_test(GDP_fill_data_train_j, GDP_fill_data_test_j,\n",
    "                return_mu_sig=True)\n",
    "        )\n",
    "        x_train_j, x_test_j = (\n",
    "            normalize_train_test(x_train_j, x_test_j)\n",
    "        )\n",
    "\n",
    "        if retune:\n",
    "            Lambda_j = ridgeCV().cv(\n",
    "                model= esnModel, \n",
    "                train_data=(x_train_j, GDP_fill_data_train_j), \n",
    "                steps = 1, \n",
    "                test_size = 5)\n",
    "            \n",
    "            Lambda_j = Lambda_j['cvLambda']\n",
    "            Lambdas.append(Lambda_j)\n",
    "            \n",
    "        else:\n",
    "            Lambda_j = Lambda\n",
    "\n",
    "        #fit model\n",
    "        esnSingle_fit = esnModel.fit(\n",
    "            train_data = (x_train_j, GDP_fill_data_train_j), \n",
    "            method= ridgeFit(Lambda_j), \n",
    "            steps =1)\n",
    "\n",
    "        #point forecast\n",
    "        esnSingle_for = forecast(\n",
    "            model = esnModel, \n",
    "            forecast_data=x_test_j, \n",
    "            fit=esnSingle_fit)\n",
    "\n",
    "        forecast_ew[j] = (esnSingle_for['forecast'][0])* sig_j + mu_j #undo normalizing \n",
    "        #print(j)\n",
    "\n",
    "    forecast_ew = pd.DataFrame(data=forecast_ew, index=GDP_test_dates,)\n",
    "    mse_ew = mean_squared_error(GDP_fill_data_test, forecast_ew)\n",
    "    rmse_ew = math.sqrt(mse_ew)\n",
    "    \n",
    "    return {'forecast': forecast_ew, 'rmse': rmse_ew, 'lambda': Lambdas}\n",
    "   "
   ]
  },
  {
   "cell_type": "code",
   "execution_count": 198,
   "metadata": {},
   "outputs": [
    {
     "name": "stderr",
     "output_type": "stream",
     "text": []
    }
   ],
   "source": [
    "# use pinv and set lambda = 0\n",
    "esn_A_ew_0 = esn_ew_fit(\n",
    "    esnModel=esn_a, \n",
    "    Lambda=0, \n",
    "    GDP_data=[GDP_fill_data_train,GDP_fill_data_test],\n",
    "    x_data=[x_train, x_test],\n",
    "    retune=False,\n",
    ")\n",
    "\n",
    "esn_B_ew_0 = esn_ew_fit(\n",
    "    esnModel=esn_b, \n",
    "    Lambda=0, \n",
    "    GDP_data=[GDP_fill_data_train,GDP_fill_data_test],\n",
    "    x_data=[x_train, x_test],\n",
    "    retune=False,\n",
    ")\n",
    "\n",
    "esn_C_ew_0 = esn_ew_fit(\n",
    "    esnModel=esn_c, \n",
    "    Lambda=0, \n",
    "    GDP_data=[GDP_fill_data_train,GDP_fill_data_test],\n",
    "    x_data=[x_train, x_test],\n",
    "    retune=False,\n",
    ")\n",
    "\n",
    "esn_D_ew_0 = esn_ew_fit(\n",
    "    esnModel=esn_d, \n",
    "    Lambda=0, \n",
    "    GDP_data=[GDP_fill_data_train,GDP_fill_data_test],\n",
    "    x_data=[x_train, x_test],\n",
    "    retune=False,\n",
    ")\n",
    "\n",
    "esn_E_ew_0 = esn_ew_fit(\n",
    "    esnModel=esn_e, \n",
    "    Lambda=0, \n",
    "    GDP_data=[GDP_fill_data_train,GDP_fill_data_test],\n",
    "    x_data=[x_train, x_test],\n",
    "    retune=False,\n",
    ")"
   ]
  },
  {
   "cell_type": "code",
   "execution_count": 199,
   "metadata": {},
   "outputs": [
    {
     "name": "stdout",
     "output_type": "stream",
     "text": [
      "--- RMSE for EW, Lambda = 0 ---\n",
      "ESN_A_EW = 0.006062519577113399 \t\n",
      "ESN_B_EW = 0.011962411698546055 \t\n",
      "ESN_C_EW = 0.03598837680206784 \t\n",
      "ESN_D_EW = 0.030161222135808734 \t\n",
      "ESN_E_EW = 0.02484666164448569 \t\n"
     ]
    }
   ],
   "source": [
    "# evaluate forcast\n",
    "print(\"--- RMSE for EW, Lambda = 0 ---\")\n",
    "print(f\"ESN_A_EW = {esn_A_ew_0['rmse']} \\t\")\n",
    "print(f\"ESN_B_EW = {esn_B_ew_0['rmse']} \\t\")\n",
    "print(f\"ESN_C_EW = {esn_C_ew_0['rmse']} \\t\")\n",
    "print(f\"ESN_D_EW = {esn_D_ew_0['rmse']} \\t\")\n",
    "print(f\"ESN_E_EW = {esn_E_ew_0['rmse']} \\t\")"
   ]
  },
  {
   "cell_type": "code",
   "execution_count": 200,
   "metadata": {},
   "outputs": [
    {
     "name": "stderr",
     "output_type": "stream",
     "text": []
    }
   ],
   "source": [
    "# using a fixed lambda -- same as fixed parms\n",
    "esn_A_ew = esn_ew_fit(\n",
    "    esnModel=esn_a, \n",
    "    Lambda=esn_fit_a['Lambda'], \n",
    "    GDP_data=[GDP_fill_data_train,GDP_fill_data_test],\n",
    "    x_data=[x_train, x_test],\n",
    "    retune=False,\n",
    ")\n",
    "\n",
    "esn_B_ew = esn_ew_fit(\n",
    "    esnModel=esn_b, \n",
    "    Lambda=esn_fit_b['Lambda'], \n",
    "    GDP_data=[GDP_fill_data_train,GDP_fill_data_test],\n",
    "    x_data=[x_train, x_test],\n",
    "    retune=False,\n",
    ")\n",
    "\n",
    "esn_C_ew = esn_ew_fit(\n",
    "    esnModel=esn_c, \n",
    "    Lambda=esn_fit_c['Lambda'], \n",
    "    GDP_data=[GDP_fill_data_train,GDP_fill_data_test],\n",
    "    x_data=[x_train, x_test],\n",
    "    retune=False,\n",
    ")\n",
    "\n",
    "esn_D_ew = esn_ew_fit(\n",
    "    esnModel=esn_d, \n",
    "    Lambda=esn_fit_d['Lambda'], \n",
    "    GDP_data=[GDP_fill_data_train,GDP_fill_data_test],\n",
    "    x_data=[x_train, x_test],\n",
    "    retune=False,\n",
    ")\n",
    "\n",
    "esn_E_ew = esn_ew_fit(\n",
    "    esnModel=esn_e, \n",
    "    Lambda=esn_fit_e['Lambda'], \n",
    "    GDP_data=[GDP_fill_data_train,GDP_fill_data_test],\n",
    "    x_data=[x_train, x_test],\n",
    "    retune=False,\n",
    ")"
   ]
  },
  {
   "cell_type": "code",
   "execution_count": 201,
   "metadata": {},
   "outputs": [
    {
     "name": "stdout",
     "output_type": "stream",
     "text": [
      "---------- RMSE --------------\n",
      "ESN_A_EW = 0.002792063927201043 \t\n",
      "ESN_B_EW = 0.0027525434395746177 \t\n",
      "ESN_C_EW = 0.002837552919533495 \t\n",
      "ESN_D_EW = 0.0027111160316419317 \t\n",
      "ESN_E_EW = 0.00286943591085364 \t\n"
     ]
    }
   ],
   "source": [
    "# evaluate forcast for fixed lambda\n",
    "print(\"---------- RMSE --------------\")\n",
    "print(f\"ESN_A_EW = {esn_A_ew['rmse']} \\t\")\n",
    "print(f\"ESN_B_EW = {esn_B_ew['rmse']} \\t\")\n",
    "print(f\"ESN_C_EW = {esn_C_ew['rmse']} \\t\")\n",
    "print(f\"ESN_D_EW = {esn_D_ew['rmse']} \\t\")\n",
    "print(f\"ESN_E_EW = {esn_E_ew['rmse']} \\t\")"
   ]
  },
  {
   "cell_type": "markdown",
   "metadata": {},
   "source": [
    "#### ARX"
   ]
  },
  {
   "cell_type": "code",
   "execution_count": 202,
   "metadata": {},
   "outputs": [
    {
     "name": "stdout",
     "output_type": "stream",
     "text": [
      "RMSE: 0.003170918948124754\n"
     ]
    }
   ],
   "source": [
    "hist_exo = x_train.copy(deep=True)\n",
    "hist_endo = GDP_fill_data_train.copy(deep=True)\n",
    "arx_fore_ew = list()\n",
    " \n",
    "#ignore value warnings\n",
    "warnings.filterwarnings(\"ignore\")\n",
    "\n",
    "for t in range(len(x_test)):\n",
    " # model set up and fit with updated train data\n",
    " model = ARIMA(endog=hist_endo, exog=hist_exo, order=order)\n",
    " fit = model.fit(method='yule_walker')\n",
    "\n",
    " #point forecast\n",
    " output = fit.forecast(steps=1, exog = x_test.iloc[t,:])\n",
    " \n",
    " # update training dataset for the next prediction\n",
    " hist_exo = hist_exo._append(x_test.iloc[t,:],ignore_index=False)\n",
    " hist_endo = hist_endo._append(GDP_fill_data_test.iloc[t,], ignore_index=False)\n",
    " \n",
    " # add forecast value to list\n",
    " arx_fore_ew.append(output.tolist()[0]) \n",
    " # obs = test.iloc[t,0] # actual\n",
    " # print('predicted=%f, actual=%f' % (output, obs))\n",
    " \n",
    "warnings.resetwarnings()\n",
    "\n",
    "# evaluate forecasts\n",
    "arx_rmse_ew = math.sqrt(mean_squared_error(GDP_fill_data_test, arx_fore_ew))\n",
    "print('RMSE: '+str(arx_rmse_ew))"
   ]
  },
  {
   "cell_type": "markdown",
   "metadata": {},
   "source": [
    "#### VAR"
   ]
  },
  {
   "cell_type": "code",
   "execution_count": 203,
   "metadata": {},
   "outputs": [
    {
     "name": "stdout",
     "output_type": "stream",
     "text": [
      "RMSE: 0.003102952677339997\n"
     ]
    }
   ],
   "source": [
    "var_fore_ew = np.zeros((len(GDP_fill_data_test)))\n",
    "data_train_ew = data_new_train.copy(deep=True)\n",
    "data_test_ew = data_new_test.copy(deep=True)\n",
    "\n",
    "warnings.filterwarnings(\"ignore\")\n",
    "for i in range(len(x_test)):\n",
    "    var_model = sm.tsa.VAR(data_train_ew)\n",
    "    var_fit = var_model.fit(1) # VAR(1)\n",
    "\n",
    "    #point forecast\n",
    "    if i > 0:\n",
    "        var_fore = var_fit.forecast(data_test_ew.values[[i-1]], 1)\n",
    "        var_fore_ew[i]= var_fore[0][0]\n",
    "\n",
    "    else: # for i = 0 case, use last value in train \n",
    "        var_fore = var_fit.forecast(data_new_train.values[-lag_order:], 1)\n",
    "        var_fore_ew[i]= var_fore[0][0]\n",
    "    \n",
    "    # update training dataset for the next prediction\n",
    "    data_train_ew = data_train_ew._append(data_test_ew.iloc[i,:],ignore_index=False)\n",
    "    \n",
    "warnings.resetwarnings()\n",
    "\n",
    "# Evaluate     \n",
    "var_rmse_ew = np.sqrt(mean_squared_error(GDP_fill_data_test, var_fore_ew))\n",
    "print('RMSE:', var_rmse_ew)"
   ]
  },
  {
   "cell_type": "markdown",
   "metadata": {},
   "source": [
    "#### Summary of RMSE for EW"
   ]
  },
  {
   "cell_type": "code",
   "execution_count": 204,
   "metadata": {},
   "outputs": [
    {
     "name": "stdout",
     "output_type": "stream",
     "text": [
      "--- RMSE for EW ---\n",
      "ESN_A_EW = 0.002792 \t\n",
      "ESN_B_EW = 0.002753 \t\n",
      "ESN_C_EW = 0.002838 \t\n",
      "ESN_D_EW = 0.002711 \t\n",
      "ESN_E_EW = 0.002869 \t\n",
      "ARX_EW \t = 0.003171 \t\n",
      "VAR_EW \t = 0.003103 \t\n"
     ]
    }
   ],
   "source": [
    "# evaluate forcast\n",
    "print(\"--- RMSE for EW ---\")\n",
    "print(f\"ESN_A_EW = {round(esn_A_ew['rmse'],6)} \\t\")\n",
    "print(f\"ESN_B_EW = {round(esn_B_ew['rmse'],6)} \\t\")\n",
    "print(f\"ESN_C_EW = {round(esn_C_ew['rmse'],6)} \\t\")\n",
    "print(f\"ESN_D_EW = {round(esn_D_ew['rmse'],6)} \\t\")\n",
    "print(f\"ESN_E_EW = {round(esn_E_ew['rmse'],6)} \\t\")\n",
    "print(f\"ARX_EW \\t = {round(arx_rmse_ew,6)} \\t\")\n",
    "print(f\"VAR_EW \\t = {round(var_rmse_ew,6)} \\t\")"
   ]
  },
  {
   "cell_type": "markdown",
   "metadata": {},
   "source": [
    "### Rolling Window Forecast"
   ]
  },
  {
   "cell_type": "markdown",
   "metadata": {},
   "source": [
    "#### ESN"
   ]
  },
  {
   "cell_type": "code",
   "execution_count": 205,
   "metadata": {},
   "outputs": [],
   "source": [
    "def esn_rw_fit(esnModel, Lambda, GDP_data, x_data, retune=False):\n",
    "    GDP_fill_data_train = GDP_data[0]\n",
    "    GDP_fill_data_test = GDP_data[1]\n",
    "\n",
    "    x_train = x_data[0]\n",
    "    x_test = x_data[1]\n",
    "\n",
    "    GDP_test_dates = GDP_fill_data_test.index\n",
    "    GDP_dates = GDP_fill_data_train.index.append(GDP_fill_data_test.index)\n",
    "\n",
    "    # calculate lambdas\n",
    "    if retune:\n",
    "        Lambdas = []\n",
    "    else:\n",
    "        Lambdas = Lambda\n",
    "\n",
    "\n",
    "    forecast_rw = np.zeros((len(GDP_fill_data_test), 1))\n",
    "    for j in tqdm(range(len(GDP_fill_data_test)), desc=\"RW\", position=1, leave=False):\n",
    "        if j > 0:\n",
    "            #update data sets    \n",
    "            GDP_fill_data_train_j = pd.concat([\n",
    "                GDP_fill_data_train, \n",
    "                GDP_fill_data_test.iloc[0:j,]\n",
    "            ]).iloc[j:,]\n",
    "            x_train_j = pd.concat([\n",
    "                x_train, \n",
    "                x_test.iloc[0:j,]\n",
    "            ]).iloc[j:,]\n",
    "            \n",
    "            GDP_fill_data_test_j = GDP_fill_data_test.iloc[[j],]\n",
    "            x_test_j = x_test.iloc[[j],]\n",
    "\n",
    "        else:\n",
    "            GDP_fill_data_train_j = GDP_fill_data_train\n",
    "            x_train_j = x_train\n",
    "            GDP_fill_data_test_j = GDP_fill_data_test.iloc[[0],]\n",
    "            x_test_j = x_test.iloc[[0],]\n",
    "\n",
    "        # Normalize\n",
    "        GDP_fill_data_train_j, GDP_fill_data_test_j, mu_j, sig_j = (\n",
    "            normalize_train_test(GDP_fill_data_train_j, GDP_fill_data_test_j,\n",
    "                return_mu_sig=True)\n",
    "        )\n",
    "        x_train_j, x_test_j = (\n",
    "            normalize_train_test(x_train_j, x_test_j)\n",
    "        )\n",
    "\n",
    "        if retune:\n",
    "            Lambda_j = ridgeCV().cv(\n",
    "                model= esnModel, \n",
    "                train_data=(x_train_j, GDP_fill_data_train_j), \n",
    "                steps = 1, \n",
    "                test_size = 5)\n",
    "            \n",
    "            Lambda_j = Lambda_j['cvLambda']\n",
    "            Lambdas.append(Lambda_j)\n",
    "            \n",
    "        else:\n",
    "            Lambda_j = Lambda\n",
    "\n",
    "        #fit model\n",
    "        esnSingle_fit = esnModel.fit(\n",
    "            train_data = (x_train_j, GDP_fill_data_train_j), \n",
    "            method= ridgeFit(Lambda_j), \n",
    "            steps =1)\n",
    "\n",
    "        #point forecast\n",
    "        esnSingle_for = forecast(\n",
    "            model = esnModel, \n",
    "            forecast_data=x_test_j, \n",
    "            fit=esnSingle_fit)\n",
    "\n",
    "        forecast_rw[j] = (esnSingle_for['forecast'][0])* sig_j + mu_j #undo normalizing \n",
    "        #print(j)\n",
    "\n",
    "    forecast_rw = pd.DataFrame(data=forecast_rw, index=GDP_test_dates,)\n",
    "    mse_rw = mean_squared_error(GDP_fill_data_test, forecast_rw)\n",
    "    rmse_rw = math.sqrt(mse_rw)\n",
    "    \n",
    "    return {'forecast': forecast_rw, 'rmse': rmse_rw, 'lambda': Lambdas}\n",
    "   "
   ]
  },
  {
   "cell_type": "code",
   "execution_count": 206,
   "metadata": {},
   "outputs": [
    {
     "name": "stderr",
     "output_type": "stream",
     "text": []
    }
   ],
   "source": [
    "# using lamnda = 0\n",
    "esn_A_rw_0 = esn_rw_fit(\n",
    "    esnModel=esn_a, \n",
    "    Lambda=0, \n",
    "    GDP_data=[GDP_fill_data_train,GDP_fill_data_test],\n",
    "    x_data=[x_train, x_test],\n",
    "    retune=False,\n",
    ")\n",
    "\n",
    "esn_B_rw_0 = esn_rw_fit(\n",
    "    esnModel=esn_b, \n",
    "    Lambda=0, \n",
    "    GDP_data=[GDP_fill_data_train,GDP_fill_data_test],\n",
    "    x_data=[x_train, x_test],\n",
    "    retune=False,\n",
    ")\n",
    "\n",
    "esn_C_rw_0 = esn_rw_fit(\n",
    "    esnModel=esn_c, \n",
    "    Lambda=0, \n",
    "    GDP_data=[GDP_fill_data_train,GDP_fill_data_test],\n",
    "    x_data=[x_train, x_test],\n",
    "    retune=False,\n",
    ")\n",
    "\n",
    "esn_D_rw_0 = esn_rw_fit(\n",
    "    esnModel=esn_d, \n",
    "    Lambda=0, \n",
    "    GDP_data=[GDP_fill_data_train,GDP_fill_data_test],\n",
    "    x_data=[x_train, x_test],\n",
    "    retune=False,\n",
    ")\n",
    "\n",
    "esn_E_rw_0 = esn_rw_fit(\n",
    "    esnModel=esn_e, \n",
    "    Lambda=0, \n",
    "    GDP_data=[GDP_fill_data_train,GDP_fill_data_test],\n",
    "    x_data=[x_train, x_test],\n",
    "    retune=False,\n",
    ")"
   ]
  },
  {
   "cell_type": "code",
   "execution_count": 207,
   "metadata": {},
   "outputs": [
    {
     "name": "stdout",
     "output_type": "stream",
     "text": [
      "------ RMSE for RW, lambda = 0 -------\n",
      "ESN_A_RW = 0.006502448363242805 \t\n",
      "ESN_B_RW = 0.01283784527687071 \t\n",
      "ESN_C_RW = 0.033315357431126645 \t\n",
      "ESN_D_RW = 0.03559686314348572 \t\n",
      "ESN_E_RW = 0.035944755191856394 \t\n"
     ]
    }
   ],
   "source": [
    "# evaluate forcast for lambda = 0 \n",
    "print(\"------ RMSE for RW, lambda = 0 -------\")\n",
    "print(f\"ESN_A_RW = {esn_A_rw_0['rmse']} \\t\")\n",
    "print(f\"ESN_B_RW = {esn_B_rw_0['rmse']} \\t\")\n",
    "print(f\"ESN_C_RW = {esn_C_rw_0['rmse']} \\t\")\n",
    "print(f\"ESN_D_RW = {esn_D_rw_0['rmse']} \\t\")\n",
    "print(f\"ESN_E_RW = {esn_E_rw_0['rmse']} \\t\")"
   ]
  },
  {
   "cell_type": "code",
   "execution_count": 208,
   "metadata": {},
   "outputs": [
    {
     "name": "stderr",
     "output_type": "stream",
     "text": []
    }
   ],
   "source": [
    "# using a fixed lambda\n",
    "esn_A_rw = esn_rw_fit(\n",
    "    esnModel=esn_a, \n",
    "    Lambda=esn_fit_a['Lambda'], \n",
    "    GDP_data=[GDP_fill_data_train,GDP_fill_data_test],\n",
    "    x_data=[x_train, x_test],\n",
    "    retune=False,\n",
    ")\n",
    "\n",
    "esn_B_rw = esn_rw_fit(\n",
    "    esnModel=esn_b, \n",
    "    Lambda=esn_fit_b['Lambda'], \n",
    "    GDP_data=[GDP_fill_data_train,GDP_fill_data_test],\n",
    "    x_data=[x_train, x_test],\n",
    "    retune=False,\n",
    ")\n",
    "\n",
    "esn_C_rw = esn_rw_fit(\n",
    "    esnModel=esn_c, \n",
    "    Lambda=esn_fit_c['Lambda'], \n",
    "    GDP_data=[GDP_fill_data_train,GDP_fill_data_test],\n",
    "    x_data=[x_train, x_test],\n",
    "    retune=False,\n",
    ")\n",
    "\n",
    "esn_D_rw = esn_rw_fit(\n",
    "    esnModel=esn_d, \n",
    "    Lambda=esn_fit_d['Lambda'], \n",
    "    GDP_data=[GDP_fill_data_train,GDP_fill_data_test],\n",
    "    x_data=[x_train, x_test],\n",
    "    retune=False,\n",
    ")\n",
    "\n",
    "esn_E_rw = esn_rw_fit(\n",
    "    esnModel=esn_e, \n",
    "    Lambda=esn_fit_e['Lambda'], \n",
    "    GDP_data=[GDP_fill_data_train,GDP_fill_data_test],\n",
    "    x_data=[x_train, x_test],\n",
    "    retune=False,\n",
    ")"
   ]
  },
  {
   "cell_type": "code",
   "execution_count": 209,
   "metadata": {},
   "outputs": [
    {
     "name": "stdout",
     "output_type": "stream",
     "text": [
      "--------- RMSE for RW -----------\n",
      "ESN_A_RW = 0.0026793892161385982 \t\n",
      "ESN_B_RW = 0.0026542871248805586 \t\n",
      "ESN_C_RW = 0.0027134552139882724 \t\n",
      "ESN_D_RW = 0.002597967114897721 \t\n",
      "ESN_E_RW = 0.0027754843795838153 \t\n"
     ]
    }
   ],
   "source": [
    "# evaluate forcast for lambda = fixed \n",
    "print(\"--------- RMSE for RW -----------\")\n",
    "print(f\"ESN_A_RW = {esn_A_rw['rmse']} \\t\")\n",
    "print(f\"ESN_B_RW = {esn_B_rw['rmse']} \\t\")\n",
    "print(f\"ESN_C_RW = {esn_C_rw['rmse']} \\t\")\n",
    "print(f\"ESN_D_RW = {esn_D_rw['rmse']} \\t\")\n",
    "print(f\"ESN_E_RW = {esn_E_rw['rmse']} \\t\")"
   ]
  },
  {
   "cell_type": "markdown",
   "metadata": {},
   "source": [
    "#### ARX"
   ]
  },
  {
   "cell_type": "code",
   "execution_count": 210,
   "metadata": {},
   "outputs": [
    {
     "name": "stdout",
     "output_type": "stream",
     "text": [
      "RMSE: 0.0028304626150975547\n"
     ]
    }
   ],
   "source": [
    "hist_exo_rw = x_train.copy(deep=True)\n",
    "hist_endo_rw = GDP_fill_data_train.copy(deep=True)\n",
    "arx_fore_rw = list()\n",
    "\n",
    "warnings.filterwarnings(\"ignore\")\n",
    "\n",
    "for t in range(len(x_test)):\n",
    " # model set up and fit\n",
    " model = ARIMA(endog=hist_endo_rw, exog=hist_exo_rw, order=order)\n",
    " fit = model.fit(method='yule_walker')\n",
    " output = fit.forecast(steps=1, exog = x_test.iloc[t,])\n",
    " \n",
    " # update training dataset with observed data\n",
    " hist_exo = hist_exo.iloc[1:]._append(x_test.iloc[t,:],ignore_index=False)\n",
    " hist_endo = hist_endo.iloc[1:]._append(GDP_fill_data_test.iloc[t,], ignore_index=False)\n",
    " \n",
    " arx_fore_rw.append(output.tolist()[0]) \n",
    "\n",
    "warnings.resetwarnings()\n",
    "\n",
    "# evaluate forecasts\n",
    "arx_rmse_rw = math.sqrt(mean_squared_error(GDP_fill_data_test, arx_fore_rw))\n",
    "print('RMSE: '+str(arx_rmse_rw))"
   ]
  },
  {
   "cell_type": "code",
   "execution_count": 211,
   "metadata": {},
   "outputs": [
    {
     "data": {
      "image/png": "[encoded data removed]",
      "text/plain": [
       "<Figure size 800x200 with 1 Axes>"
      ]
     },
     "metadata": {},
     "output_type": "display_data"
    }
   ],
   "source": [
    "# plot forecasts against actual outcomes\n",
    "plt.figure(figsize=(8,2))\n",
    "plt.plot(data_new.index[:len(x_train)], GDP_fill_data_train, label='Train')\n",
    "plt.plot(data_new.index[len(x_train):], GDP_fill_data_test, label='Test')\n",
    "plt.plot(data_new.index[len(x_train):], arx_fore_ew, label='EW')\n",
    "plt.plot(data_new.index[len(x_train):], arx_fore_rw, label='RW')\n",
    "plt.plot(data_new.index[len(x_train):], arx_forecast, label='Fixed')\n",
    "plt.title(\"One-Step Forecast for ARX\")\n",
    "plt.legend()\n",
    "plt.show()"
   ]
  },
  {
   "cell_type": "markdown",
   "metadata": {},
   "source": [
    "#### VAR"
   ]
  },
  {
   "cell_type": "code",
   "execution_count": 212,
   "metadata": {},
   "outputs": [
    {
     "name": "stdout",
     "output_type": "stream",
     "text": [
      "RMSE: 0.0029723138701748006\n"
     ]
    }
   ],
   "source": [
    "var_fore_rw = np.zeros((len(GDP_fill_data_test)))\n",
    "data_train_rw = data_new_train.copy(deep=True)\n",
    "data_test_rw = data_new_test.copy(deep=True)\n",
    "\n",
    "warnings.filterwarnings(\"ignore\")\n",
    "for i in range(len(x_test)):\n",
    "    var_model = sm.tsa.VAR(data_train_rw)\n",
    "    var_fit = var_model.fit(1) # VAR(1)\n",
    "\n",
    "    #point forecast\n",
    "    if i > 0:\n",
    "        var_fore = var_fit.forecast(data_test_rw.values[[i-1]], 1)\n",
    "        var_fore_rw[i]= var_fore[0][0]\n",
    "\n",
    "    else: # for i = 0 case, use last value in train \n",
    "        var_fore = var_fit.forecast(data_new_train.values[-lag_order:], 1)\n",
    "        var_fore_rw[i]= var_fore[0][0]\n",
    "    \n",
    "    # update training dataset for the next prediction\n",
    "    data_train_rw = data_train_rw._append(data_test_ew.iloc[i,:],ignore_index=False).iloc[1:,:]\n",
    "    \n",
    "warnings.resetwarnings()\n",
    "\n",
    "# Evaluate     \n",
    "var_rmse_rw = np.sqrt(mean_squared_error(GDP_fill_data_test, var_fore_rw))\n",
    "print('RMSE:', var_rmse_rw)"
   ]
  },
  {
   "cell_type": "markdown",
   "metadata": {},
   "source": [
    "#### Summary of RMSE"
   ]
  },
  {
   "cell_type": "code",
   "execution_count": 213,
   "metadata": {},
   "outputs": [
    {
     "name": "stdout",
     "output_type": "stream",
     "text": [
      "Forecast Methods     RMSE\n",
      "Fixed Parameters 0.002746\n",
      "Expanding Window 0.003171\n",
      "  Rolling Window 0.002830\n"
     ]
    }
   ],
   "source": [
    "rmse_sum_arx = {'Forecast Methods': ['Fixed Parameters', 'Expanding Window', 'Rolling Window'], \n",
    "            'RMSE': [rmse_arx, arx_rmse_ew, arx_rmse_rw ]}\n",
    "\n",
    "print(pd.DataFrame(rmse_sum_arx).to_string(index=False))"
   ]
  },
  {
   "cell_type": "code",
   "execution_count": 214,
   "metadata": {},
   "outputs": [
    {
     "name": "stdout",
     "output_type": "stream",
     "text": [
      "Forecast Methods     RMSE\n",
      "Fixed Parameters 0.003116\n",
      "Expanding Window 0.003103\n",
      "  Rolling Window 0.002972\n"
     ]
    }
   ],
   "source": [
    "rmse_sum_var = {'Forecast Methods': ['Fixed Parameters', 'Expanding Window', 'Rolling Window'], \n",
    "            'RMSE': [rmse_var, var_rmse_ew, var_rmse_rw ]}\n",
    "\n",
    "print(pd.DataFrame(rmse_sum_var).to_string(index=False))"
   ]
  },
  {
   "cell_type": "code",
   "execution_count": 215,
   "metadata": {},
   "outputs": [
    {
     "name": "stdout",
     "output_type": "stream",
     "text": [
      "--- RMSE for RW ---\n",
      "ESN_A_RW = 0.002679 \t\n",
      "ESN_B_RW = 0.002654 \t\n",
      "ESN_C_RW = 0.002713 \t\n",
      "ESN_D_RW = 0.002598 \t\n",
      "ESN_E_RW = 0.002775 \t\n",
      "ARX_RW \t = 0.00283 \t\n",
      "VAR_RW \t = 0.002972 \t\n"
     ]
    }
   ],
   "source": [
    "# evaluate forcast\n",
    "print(\"--- RMSE for RW ---\")\n",
    "print(f\"ESN_A_RW = {round(esn_A_rw['rmse'],6)} \\t\")\n",
    "print(f\"ESN_B_RW = {round(esn_B_rw['rmse'],6)} \\t\")\n",
    "print(f\"ESN_C_RW = {round(esn_C_rw['rmse'],6)} \\t\")\n",
    "print(f\"ESN_D_RW = {round(esn_D_rw['rmse'],6)} \\t\")\n",
    "print(f\"ESN_E_RW = {round(esn_E_rw['rmse'],6)} \\t\")\n",
    "print(f\"ARX_RW \\t = {round(arx_rmse_rw,6)} \\t\")\n",
    "print(f\"VAR_RW \\t = {round(var_rmse_rw,6)} \\t\")"
   ]
  },
  {
   "cell_type": "markdown",
   "metadata": {},
   "source": [
    "### Direct Mutli-step Forecast"
   ]
  },
  {
   "cell_type": "markdown",
   "metadata": {},
   "source": [
    "#### ESN"
   ]
  },
  {
   "cell_type": "code",
   "execution_count": 216,
   "metadata": {},
   "outputs": [],
   "source": [
    "# 8 steps ahead \n",
    "from LibESN.esn_forecast import forecastDirectMultistep\n",
    "def esn_fit_multistep(esnModel, GDP_data, exo_data, n_step):\n",
    "    GDP_train, GDP_test = GDP_data[0], GDP_data[1]\n",
    "    exo_train, exo_test = exo_data[0], exo_data[1]\n",
    "\n",
    "    #normalize data\n",
    "    GDP_train, GDP_test, GDP_mu_train, GDP_sig_train = (\n",
    "        normalize_train_test(GDP_train, GDP_test,\n",
    "            return_mu_sig=True))\n",
    "    exo_train, exo_test = normalize_train_test(exo_train, exo_test)\n",
    "\n",
    "    #cross validation to find lambda\n",
    "    cv = ridgeCV().cvDirectMultistep(\n",
    "        model= esnModel, \n",
    "        train_data=(exo_train, GDP_train), \n",
    "        steps = n_step, \n",
    "        test_size = 5 )\n",
    "\n",
    "    #fit model\n",
    "    esn_fit_multi = esnModel.fitDirectMultistep(\n",
    "        train_data = (exo_train, GDP_train), \n",
    "        method= ridgeFit(cv['cvLambda']), \n",
    "        steps =n_step)\n",
    "\n",
    "    #forecast\n",
    "    esn_for = forecastDirectMultistep(\n",
    "        model = esnModel, \n",
    "        forecast_data=exo_test, \n",
    "        fit=esn_fit_multi)\n",
    "    \n",
    "    #undo norm\n",
    "    esn_for['forecast'] = esn_for['forecast']* GDP_sig_train.to_numpy() + GDP_mu_train.to_numpy()\n",
    "\n",
    "    # Compute pointwise forecasts\n",
    "    esnSingle_fix_forecast = (esn_for['forecast'][0]* GDP_sig_train.to_numpy() + GDP_mu_train.to_numpy())\n",
    "\n",
    "    #output\n",
    "    return({'Lambda': cv['cvLambda'], \n",
    "            'Point forecast': esnSingle_fix_forecast, \n",
    "            'forecast':esn_for['forecast'],\n",
    "            'fit': esn_fit_multi})\n",
    "\n",
    "                            "
   ]
  },
  {
   "cell_type": "code",
   "execution_count": 217,
   "metadata": {},
   "outputs": [],
   "source": [
    "esn_a_multistep = esn_fit_multistep(esn_a, GDP_data= [GDP_fill_data_train, GDP_fill_data_test], exo_data=[x_train,x_test], n_step = 8)"
   ]
  },
  {
   "cell_type": "code",
   "execution_count": 218,
   "metadata": {},
   "outputs": [],
   "source": [
    "esn_b_multistep = esn_fit_multistep(esn_b, GDP_data= [GDP_fill_data_train, GDP_fill_data_test], exo_data=[x_train,x_test], n_step = 8)"
   ]
  },
  {
   "cell_type": "code",
   "execution_count": 219,
   "metadata": {},
   "outputs": [],
   "source": [
    "esn_c_multistep = esn_fit_multistep(esn_c, GDP_data= [GDP_fill_data_train, GDP_fill_data_test], exo_data=[x_train,x_test], n_step = 8)"
   ]
  },
  {
   "cell_type": "code",
   "execution_count": 220,
   "metadata": {},
   "outputs": [],
   "source": [
    "esn_d_multistep = esn_fit_multistep(esn_d, GDP_data= [GDP_fill_data_train, GDP_fill_data_test], exo_data=[x_train,x_test], n_step = 8)"
   ]
  },
  {
   "cell_type": "code",
   "execution_count": 221,
   "metadata": {},
   "outputs": [],
   "source": [
    "esn_e_multistep = esn_fit_multistep(esn_e, GDP_data= [GDP_fill_data_train, GDP_fill_data_test], exo_data=[x_train,x_test], n_step = 8)"
   ]
  },
  {
   "cell_type": "code",
   "execution_count": 222,
   "metadata": {},
   "outputs": [],
   "source": [
    "def hStepRMSFE(forecasts_df):\n",
    "    T = len(forecasts_df)\n",
    "    steps = len(forecasts_df.columns)\n",
    "    hStep_rmse = np.zeros((steps))\n",
    "    for h, c in enumerate(forecasts_df.columns):\n",
    "        hStep_rmse[h] = np.sqrt(np.mean(np.square(\n",
    "            np.squeeze(GDP_fill_data_test.to_numpy()) - forecasts_df[[c]].to_numpy()\n",
    "        )[h:(T-steps+h+1)]))\n",
    "    return pd.DataFrame(data=hStep_rmse, index=range(1, 1+steps))\n"
   ]
  },
  {
   "cell_type": "code",
   "execution_count": 244,
   "metadata": {},
   "outputs": [
    {
     "name": "stdout",
     "output_type": "stream",
     "text": [
      "RMSE for A:           0\n",
      "1  0.002853\n",
      "2  0.002524\n",
      "3  0.002497\n",
      "4  0.002569\n",
      "5  0.002497\n",
      "6  0.002495\n",
      "7  0.002494\n",
      "8  0.002494\n",
      "RMSE for B:           0\n",
      "1  0.002672\n",
      "2  0.002563\n",
      "3  0.002497\n",
      "4  0.002538\n",
      "5  0.002497\n",
      "6  0.002495\n",
      "7  0.002494\n",
      "8  0.002494\n",
      "RMSE for C:           0\n",
      "1  0.002832\n",
      "2  0.002528\n",
      "3  0.002497\n",
      "4  0.002526\n",
      "5  0.002497\n",
      "6  0.002495\n",
      "7  0.002494\n",
      "8  0.002494\n",
      "RMSE for D:           0\n",
      "1  0.002670\n",
      "2  0.002517\n",
      "3  0.002497\n",
      "4  0.002536\n",
      "5  0.002497\n",
      "6  0.002495\n",
      "7  0.002494\n",
      "8  0.002493\n",
      "RMSE for E:           0\n",
      "1  0.002850\n",
      "2  0.002584\n",
      "3  0.002497\n",
      "4  0.002551\n",
      "5  0.002497\n",
      "6  0.002495\n",
      "7  0.002494\n",
      "8  0.002494\n"
     ]
    }
   ],
   "source": [
    "esn_a_multi_for = np.squeeze(esn_a_multistep['forecast'])\n",
    "esn_a_multi_for = pd.DataFrame(esn_a_multi_for)\n",
    "# display(esn_a_multi_for)\n",
    "print('RMSE for A:',hStepRMSFE(esn_a_multi_for))\n",
    "\n",
    "esn_b_multi_for = np.squeeze(esn_b_multistep['forecast'])\n",
    "esn_b_multi_for = pd.DataFrame(esn_b_multi_for)\n",
    "print('RMSE for B:',hStepRMSFE(esn_b_multi_for))\n",
    "\n",
    "esn_c_multi_for = np.squeeze(esn_c_multistep['forecast'])\n",
    "esn_c_multi_for = pd.DataFrame(esn_c_multi_for)\n",
    "print('RMSE for C:',hStepRMSFE(esn_c_multi_for))\n",
    "\n",
    "esn_d_multi_for = np.squeeze(esn_d_multistep['forecast'])\n",
    "esn_d_multi_for = pd.DataFrame(esn_d_multi_for)\n",
    "print('RMSE for D:',hStepRMSFE(esn_d_multi_for))\n",
    "\n",
    "esn_e_multi_for = np.squeeze(esn_e_multistep['forecast'])\n",
    "esn_e_multi_for = pd.DataFrame(esn_e_multi_for)\n",
    "print('RMSE for E:',hStepRMSFE(esn_e_multi_for))\n"
   ]
  },
  {
   "cell_type": "markdown",
   "metadata": {},
   "source": [
    "#### ARX"
   ]
  },
  {
   "cell_type": "code",
   "execution_count": 245,
   "metadata": {},
   "outputs": [
    {
     "data": {
      "text/plain": [
       "''"
      ]
     },
     "execution_count": 245,
     "metadata": {},
     "output_type": "execute_result"
    }
   ],
   "source": [
    "# make predictions - 8 steps ahead forecast\n",
    "# iterative method\n",
    "''''''\n",
    "def arx_multistep(steps, data):\n",
    "    GDP_data_train = data[0]['GDP']\n",
    "    GDP_data_test = data[1]['GDP']\n",
    "    x_train, x_test = data[0].iloc[:, 1:], data[1].iloc[:, 1:]\n",
    "    GDP_test_dates = GDP_data_test.index\n",
    "\n",
    "    #set up ARX model forecast\n",
    "    model_arx = ARIMA(endog=GDP_data_train, exog=x_train, order=order)\n",
    "\n",
    "    fit_arx = model_arx.fit(method='yule_walker')\n",
    "\n",
    "    forecast_multistep = np.zeros((len(GDP_test_dates), steps))\n",
    "\n",
    "    for j in range (len(GDP_data_test)):\n",
    "        if (j +steps) <= len(GDP_data_test):\n",
    "            forecast_multistep[j, :] = fit_arx.forecast(steps= steps, exog = x_test.iloc[j:j+steps,:])\n",
    "\n",
    "        else:\n",
    "            # use AR to predict the exo terms; used all available data up to time step (train_size)+j\n",
    "            # M1 is AR(1)\n",
    "            model_M1 = AutoReg(x_data.iloc[:train_size+j,0], lags=1)\n",
    "            M1 = model_M1.fit()\n",
    "            pred_M1 = M1.predict(start = len(x_train)+j, end = len(x_train) +j + steps -1)\n",
    "\n",
    "            # M7 is AR(1)\n",
    "            model_M7 = AutoReg(x_data.iloc[:train_size+j,1], lags=1)\n",
    "            M7 = model_M7.fit()\n",
    "            pred_M7 = M7.predict(start = len(x_train)+j, end = len(x_train)+j + steps -1)\n",
    "\n",
    "            # M12 is AR(3)\n",
    "            model_M12 = AutoReg(x_data.iloc[:train_size+j,2], lags=3)\n",
    "            M12 = model_M12.fit()\n",
    "            pred_M12 = M12.predict(start = len(x_train)+j, end = len(x_train)+j + steps -1)\n",
    "\n",
    "            pred_exo = pd.concat([pred_M1, pred_M7, pred_M12], axis = 1)\n",
    "            pred_exo.columns = ['M1','M7', 'M12']\n",
    "\n",
    "            # do forecast for GDP\n",
    "            forecast_multistep[j, :] = fit.forecast(steps= steps, exog = pred_exo)\n",
    "        \n",
    "\n",
    "    return pd.DataFrame(data=forecast_multistep, index=GDP_test_dates, columns=range(steps))\n",
    "''''''"
   ]
  },
  {
   "cell_type": "code",
   "execution_count": 225,
   "metadata": {},
   "outputs": [
    {
     "data": {
      "text/plain": [
       "''"
      ]
     },
     "execution_count": 225,
     "metadata": {},
     "output_type": "execute_result"
    }
   ],
   "source": [
    "''''''\n",
    "warnings.filterwarnings(\"ignore\")\n",
    "arx_multi_fore = arx_multistep(steps =8, data=[data_new_train, data_new_test])\n",
    "warnings.resetwarnings()\n",
    "\n",
    "hStepRMSFE(arx_multi_fore)\n",
    "''''''"
   ]
  },
  {
   "cell_type": "code",
   "execution_count": 226,
   "metadata": {},
   "outputs": [
    {
     "data": {
      "text/plain": [
       "'\\npred = np.zeros(8)\\n\\nwarnings.filterwarnings(\"ignore\")\\nfor i in range (0, 8):\\n    orx = (i+1,0,0)\\n    model_arx2 = ARIMA(endog=GDP_fill_data_train, exog=x_train, order=orx)\\n    fit_arx2 = model_arx2.fit(method=\\'yule_walker\\')\\n    print(fit_arx2.summary())\\n    pred[i] = fit_arx2.forecast(steps= 1, exog = x_test.iloc[0])[0]\\n\\n\\nprint(GDP_fill_data_test.iloc[0],\\n    pred)\\n'"
      ]
     },
     "execution_count": 226,
     "metadata": {},
     "output_type": "execute_result"
    }
   ],
   "source": [
    "'''\n",
    "pred = np.zeros(8)\n",
    "\n",
    "warnings.filterwarnings(\"ignore\")\n",
    "for i in range (0, 8):\n",
    "    orx = (i+1,0,0)\n",
    "    model_arx2 = ARIMA(endog=GDP_fill_data_train, exog=x_train, order=orx)\n",
    "    fit_arx2 = model_arx2.fit(method='yule_walker')\n",
    "    print(fit_arx2.summary())\n",
    "    pred[i] = fit_arx2.forecast(steps= 1, exog = x_test.iloc[0])[0]\n",
    "\n",
    "\n",
    "print(GDP_fill_data_test.iloc[0],\n",
    "    pred)\n",
    "'''"
   ]
  },
  {
   "cell_type": "markdown",
   "metadata": {},
   "source": [
    "#### VAR"
   ]
  },
  {
   "cell_type": "code",
   "execution_count": 227,
   "metadata": {},
   "outputs": [],
   "source": [
    "var_fore_multi = list()\n",
    "\n",
    "def var_multistep(steps, data): \n",
    "    train = data[0]\n",
    "    test = data[1]\n",
    "    GDP_data_train = data[0]['GDP']\n",
    "    GDP_data_test = data[1]['GDP']\n",
    "    x_train, x_test = data[0].iloc[:, 1:], data[1].iloc[:, 1:]\n",
    "    GDP_test_dates = GDP_data_test.index\n",
    "\n",
    "    # set up model\n",
    "    var_model = sm.tsa.VAR(data[0])\n",
    "    var_fit = var_model.fit(1)\n",
    "\n",
    "    # forecast multistep \n",
    "    var_forecast = np.zeros((len(test), steps))\n",
    "    for i in range(len(test)):\n",
    "        if i > 0:\n",
    "            var_fore = var_fit.forecast(test.values[[i-1]], steps)\n",
    "            var_forecast[i, :]= var_fore[:,0]\n",
    "        else:\n",
    "            var_fore = var_fit.forecast(train.values[-1:], steps)\n",
    "            var_forecast[i, :]= var_fore[:,0]\n",
    "\n",
    "    return pd.DataFrame(data=var_forecast, index=GDP_test_dates, columns=range(steps))"
   ]
  },
  {
   "cell_type": "code",
   "execution_count": 228,
   "metadata": {},
   "outputs": [
    {
     "data": {
      "text/html": [
       "<div>\n",
       "<style scoped>\n",
       "    .dataframe tbody tr th:only-of-type {\n",
       "        vertical-align: middle;\n",
       "    }\n",
       "\n",
       "    .dataframe tbody tr th {\n",
       "        vertical-align: top;\n",
       "    }\n",
       "\n",
       "    .dataframe thead th {\n",
       "        text-align: right;\n",
       "    }\n",
       "</style>\n",
       "<table border=\"1\" class=\"dataframe\">\n",
       "  <thead>\n",
       "    <tr style=\"text-align: right;\">\n",
       "      <th></th>\n",
       "      <th>0</th>\n",
       "      <th>1</th>\n",
       "      <th>2</th>\n",
       "      <th>3</th>\n",
       "      <th>4</th>\n",
       "      <th>5</th>\n",
       "      <th>6</th>\n",
       "      <th>7</th>\n",
       "    </tr>\n",
       "  </thead>\n",
       "  <tbody>\n",
       "    <tr>\n",
       "      <th>2015-09-30</th>\n",
       "      <td>0.008017</td>\n",
       "      <td>0.006307</td>\n",
       "      <td>0.006197</td>\n",
       "      <td>0.005730</td>\n",
       "      <td>0.005516</td>\n",
       "      <td>0.005316</td>\n",
       "      <td>0.005183</td>\n",
       "      <td>0.005080</td>\n",
       "    </tr>\n",
       "    <tr>\n",
       "      <th>2015-12-31</th>\n",
       "      <td>0.006368</td>\n",
       "      <td>0.005295</td>\n",
       "      <td>0.005403</td>\n",
       "      <td>0.005165</td>\n",
       "      <td>0.005094</td>\n",
       "      <td>0.005007</td>\n",
       "      <td>0.004955</td>\n",
       "      <td>0.004913</td>\n",
       "    </tr>\n",
       "    <tr>\n",
       "      <th>2016-03-31</th>\n",
       "      <td>0.004633</td>\n",
       "      <td>0.004991</td>\n",
       "      <td>0.004849</td>\n",
       "      <td>0.004866</td>\n",
       "      <td>0.004838</td>\n",
       "      <td>0.004831</td>\n",
       "      <td>0.004821</td>\n",
       "      <td>0.004815</td>\n",
       "    </tr>\n",
       "    <tr>\n",
       "      <th>2016-06-30</th>\n",
       "      <td>0.003065</td>\n",
       "      <td>0.002448</td>\n",
       "      <td>0.003243</td>\n",
       "      <td>0.003570</td>\n",
       "      <td>0.003919</td>\n",
       "      <td>0.004143</td>\n",
       "      <td>0.004319</td>\n",
       "      <td>0.004444</td>\n",
       "    </tr>\n",
       "    <tr>\n",
       "      <th>2016-09-30</th>\n",
       "      <td>0.003479</td>\n",
       "      <td>0.004467</td>\n",
       "      <td>0.004339</td>\n",
       "      <td>0.004532</td>\n",
       "      <td>0.004578</td>\n",
       "      <td>0.004644</td>\n",
       "      <td>0.004682</td>\n",
       "      <td>0.004714</td>\n",
       "    </tr>\n",
       "    <tr>\n",
       "      <th>2016-12-31</th>\n",
       "      <td>0.001836</td>\n",
       "      <td>0.001733</td>\n",
       "      <td>0.002595</td>\n",
       "      <td>0.003130</td>\n",
       "      <td>0.003582</td>\n",
       "      <td>0.003899</td>\n",
       "      <td>0.004138</td>\n",
       "      <td>0.004312</td>\n",
       "    </tr>\n",
       "    <tr>\n",
       "      <th>2017-03-31</th>\n",
       "      <td>0.004905</td>\n",
       "      <td>0.004662</td>\n",
       "      <td>0.004680</td>\n",
       "      <td>0.004707</td>\n",
       "      <td>0.004731</td>\n",
       "      <td>0.004748</td>\n",
       "      <td>0.004761</td>\n",
       "      <td>0.004771</td>\n",
       "    </tr>\n",
       "    <tr>\n",
       "      <th>2017-06-30</th>\n",
       "      <td>0.007463</td>\n",
       "      <td>0.006783</td>\n",
       "      <td>0.006266</td>\n",
       "      <td>0.005876</td>\n",
       "      <td>0.005592</td>\n",
       "      <td>0.005382</td>\n",
       "      <td>0.005228</td>\n",
       "      <td>0.005114</td>\n",
       "    </tr>\n",
       "    <tr>\n",
       "      <th>2017-09-30</th>\n",
       "      <td>0.005893</td>\n",
       "      <td>0.005926</td>\n",
       "      <td>0.005568</td>\n",
       "      <td>0.005390</td>\n",
       "      <td>0.005226</td>\n",
       "      <td>0.005115</td>\n",
       "      <td>0.005031</td>\n",
       "      <td>0.004970</td>\n",
       "    </tr>\n",
       "    <tr>\n",
       "      <th>2017-12-31</th>\n",
       "      <td>0.004885</td>\n",
       "      <td>0.004938</td>\n",
       "      <td>0.004827</td>\n",
       "      <td>0.004839</td>\n",
       "      <td>0.004821</td>\n",
       "      <td>0.004817</td>\n",
       "      <td>0.004811</td>\n",
       "      <td>0.004808</td>\n",
       "    </tr>\n",
       "    <tr>\n",
       "      <th>2018-03-31</th>\n",
       "      <td>0.006753</td>\n",
       "      <td>0.006312</td>\n",
       "      <td>0.005881</td>\n",
       "      <td>0.005609</td>\n",
       "      <td>0.005390</td>\n",
       "      <td>0.005235</td>\n",
       "      <td>0.005119</td>\n",
       "      <td>0.005034</td>\n",
       "    </tr>\n",
       "    <tr>\n",
       "      <th>2018-06-30</th>\n",
       "      <td>0.002561</td>\n",
       "      <td>0.003434</td>\n",
       "      <td>0.003811</td>\n",
       "      <td>0.004076</td>\n",
       "      <td>0.004268</td>\n",
       "      <td>0.004408</td>\n",
       "      <td>0.004511</td>\n",
       "      <td>0.004587</td>\n",
       "    </tr>\n",
       "    <tr>\n",
       "      <th>2018-09-30</th>\n",
       "      <td>0.002979</td>\n",
       "      <td>0.003481</td>\n",
       "      <td>0.003872</td>\n",
       "      <td>0.004105</td>\n",
       "      <td>0.004293</td>\n",
       "      <td>0.004425</td>\n",
       "      <td>0.004524</td>\n",
       "      <td>0.004596</td>\n",
       "    </tr>\n",
       "    <tr>\n",
       "      <th>2018-12-31</th>\n",
       "      <td>0.003344</td>\n",
       "      <td>0.003462</td>\n",
       "      <td>0.003801</td>\n",
       "      <td>0.004064</td>\n",
       "      <td>0.004256</td>\n",
       "      <td>0.004400</td>\n",
       "      <td>0.004505</td>\n",
       "      <td>0.004582</td>\n",
       "    </tr>\n",
       "    <tr>\n",
       "      <th>2019-03-31</th>\n",
       "      <td>0.002459</td>\n",
       "      <td>0.003249</td>\n",
       "      <td>0.003667</td>\n",
       "      <td>0.003966</td>\n",
       "      <td>0.004188</td>\n",
       "      <td>0.004348</td>\n",
       "      <td>0.004467</td>\n",
       "      <td>0.004555</td>\n",
       "    </tr>\n",
       "    <tr>\n",
       "      <th>2019-06-30</th>\n",
       "      <td>0.006614</td>\n",
       "      <td>0.006275</td>\n",
       "      <td>0.005838</td>\n",
       "      <td>0.005582</td>\n",
       "      <td>0.005369</td>\n",
       "      <td>0.005220</td>\n",
       "      <td>0.005108</td>\n",
       "      <td>0.005026</td>\n",
       "    </tr>\n",
       "    <tr>\n",
       "      <th>2019-09-30</th>\n",
       "      <td>0.004468</td>\n",
       "      <td>0.004168</td>\n",
       "      <td>0.004481</td>\n",
       "      <td>0.004512</td>\n",
       "      <td>0.004606</td>\n",
       "      <td>0.004651</td>\n",
       "      <td>0.004692</td>\n",
       "      <td>0.004719</td>\n",
       "    </tr>\n",
       "    <tr>\n",
       "      <th>2019-12-31</th>\n",
       "      <td>0.004818</td>\n",
       "      <td>0.004906</td>\n",
       "      <td>0.004772</td>\n",
       "      <td>0.004805</td>\n",
       "      <td>0.004793</td>\n",
       "      <td>0.004798</td>\n",
       "      <td>0.004797</td>\n",
       "      <td>0.004797</td>\n",
       "    </tr>\n",
       "  </tbody>\n",
       "</table>\n",
       "</div>"
      ],
      "text/plain": [
       "                   0         1         2         3         4         5  \\\n",
       "2015-09-30  0.008017  0.006307  0.006197  0.005730  0.005516  0.005316   \n",
       "2015-12-31  0.006368  0.005295  0.005403  0.005165  0.005094  0.005007   \n",
       "2016-03-31  0.004633  0.004991  0.004849  0.004866  0.004838  0.004831   \n",
       "2016-06-30  0.003065  0.002448  0.003243  0.003570  0.003919  0.004143   \n",
       "2016-09-30  0.003479  0.004467  0.004339  0.004532  0.004578  0.004644   \n",
       "2016-12-31  0.001836  0.001733  0.002595  0.003130  0.003582  0.003899   \n",
       "2017-03-31  0.004905  0.004662  0.004680  0.004707  0.004731  0.004748   \n",
       "2017-06-30  0.007463  0.006783  0.006266  0.005876  0.005592  0.005382   \n",
       "2017-09-30  0.005893  0.005926  0.005568  0.005390  0.005226  0.005115   \n",
       "2017-12-31  0.004885  0.004938  0.004827  0.004839  0.004821  0.004817   \n",
       "2018-03-31  0.006753  0.006312  0.005881  0.005609  0.005390  0.005235   \n",
       "2018-06-30  0.002561  0.003434  0.003811  0.004076  0.004268  0.004408   \n",
       "2018-09-30  0.002979  0.003481  0.003872  0.004105  0.004293  0.004425   \n",
       "2018-12-31  0.003344  0.003462  0.003801  0.004064  0.004256  0.004400   \n",
       "2019-03-31  0.002459  0.003249  0.003667  0.003966  0.004188  0.004348   \n",
       "2019-06-30  0.006614  0.006275  0.005838  0.005582  0.005369  0.005220   \n",
       "2019-09-30  0.004468  0.004168  0.004481  0.004512  0.004606  0.004651   \n",
       "2019-12-31  0.004818  0.004906  0.004772  0.004805  0.004793  0.004798   \n",
       "\n",
       "                   6         7  \n",
       "2015-09-30  0.005183  0.005080  \n",
       "2015-12-31  0.004955  0.004913  \n",
       "2016-03-31  0.004821  0.004815  \n",
       "2016-06-30  0.004319  0.004444  \n",
       "2016-09-30  0.004682  0.004714  \n",
       "2016-12-31  0.004138  0.004312  \n",
       "2017-03-31  0.004761  0.004771  \n",
       "2017-06-30  0.005228  0.005114  \n",
       "2017-09-30  0.005031  0.004970  \n",
       "2017-12-31  0.004811  0.004808  \n",
       "2018-03-31  0.005119  0.005034  \n",
       "2018-06-30  0.004511  0.004587  \n",
       "2018-09-30  0.004524  0.004596  \n",
       "2018-12-31  0.004505  0.004582  \n",
       "2019-03-31  0.004467  0.004555  \n",
       "2019-06-30  0.005108  0.005026  \n",
       "2019-09-30  0.004692  0.004719  \n",
       "2019-12-31  0.004797  0.004797  "
      ]
     },
     "metadata": {},
     "output_type": "display_data"
    }
   ],
   "source": [
    "var_multi_fore = var_multistep(steps =8, data=[data_new_train, data_new_test])\n",
    "display(var_multi_fore)"
   ]
  },
  {
   "cell_type": "code",
   "execution_count": 229,
   "metadata": {},
   "outputs": [
    {
     "data": {
      "text/html": [
       "<div>\n",
       "<style scoped>\n",
       "    .dataframe tbody tr th:only-of-type {\n",
       "        vertical-align: middle;\n",
       "    }\n",
       "\n",
       "    .dataframe tbody tr th {\n",
       "        vertical-align: top;\n",
       "    }\n",
       "\n",
       "    .dataframe thead th {\n",
       "        text-align: right;\n",
       "    }\n",
       "</style>\n",
       "<table border=\"1\" class=\"dataframe\">\n",
       "  <thead>\n",
       "    <tr style=\"text-align: right;\">\n",
       "      <th></th>\n",
       "      <th>0</th>\n",
       "    </tr>\n",
       "  </thead>\n",
       "  <tbody>\n",
       "    <tr>\n",
       "      <th>1</th>\n",
       "      <td>0.003161</td>\n",
       "    </tr>\n",
       "    <tr>\n",
       "      <th>2</th>\n",
       "      <td>0.002905</td>\n",
       "    </tr>\n",
       "    <tr>\n",
       "      <th>3</th>\n",
       "      <td>0.002711</td>\n",
       "    </tr>\n",
       "    <tr>\n",
       "      <th>4</th>\n",
       "      <td>0.002623</td>\n",
       "    </tr>\n",
       "    <tr>\n",
       "      <th>5</th>\n",
       "      <td>0.002559</td>\n",
       "    </tr>\n",
       "    <tr>\n",
       "      <th>6</th>\n",
       "      <td>0.002540</td>\n",
       "    </tr>\n",
       "    <tr>\n",
       "      <th>7</th>\n",
       "      <td>0.002520</td>\n",
       "    </tr>\n",
       "    <tr>\n",
       "      <th>8</th>\n",
       "      <td>0.002514</td>\n",
       "    </tr>\n",
       "  </tbody>\n",
       "</table>\n",
       "</div>"
      ],
      "text/plain": [
       "          0\n",
       "1  0.003161\n",
       "2  0.002905\n",
       "3  0.002711\n",
       "4  0.002623\n",
       "5  0.002559\n",
       "6  0.002540\n",
       "7  0.002520\n",
       "8  0.002514"
      ]
     },
     "execution_count": 229,
     "metadata": {},
     "output_type": "execute_result"
    }
   ],
   "source": [
    "hStepRMSFE(var_multi_fore)"
   ]
  },
  {
   "cell_type": "markdown",
   "metadata": {},
   "source": [
    "#### Plots for Multi-step"
   ]
  },
  {
   "cell_type": "code",
   "execution_count": 247,
   "metadata": {},
   "outputs": [
    {
     "data": {
      "text/plain": [
       "<matplotlib.legend.Legend at 0x213b5389cd0>"
      ]
     },
     "execution_count": 247,
     "metadata": {},
     "output_type": "execute_result"
    },
    {
     "data": {
      "image/png": "[encoded data removed]",
      "text/plain": [
       "<Figure size 1000x350 with 1 Axes>"
      ]
     },
     "metadata": {},
     "output_type": "display_data"
    }
   ],
   "source": [
    "fig, ax = plt.subplots(figsize=(10, 3.5))\n",
    "plt.grid()\n",
    "plt.plot(hStepRMSFE(esn_a_multi_for), label=\"esn_A\", c=\"C0\") \n",
    "plt.plot(hStepRMSFE(esn_b_multi_for), label=\"esn_B\", c=\"C1\") \n",
    "plt.plot(hStepRMSFE(esn_c_multi_for), label=\"esn_C\", c=\"C2\") \n",
    "plt.plot(hStepRMSFE(esn_d_multi_for), label=\"esn_D\", c=\"C3\")\n",
    "plt.plot(hStepRMSFE(esn_e_multi_for), label=\"esn_E\", c=\"C4\")\n",
    "# plt.plot(hStepRMSFE(ar_multi_direct), label=\"ARX\", c=\"C5\") \n",
    "plt.plot(hStepRMSFE(var_multi_fore), label=\"VAR\", c=\"C6\")\n",
    "plt.legend()"
   ]
  },
  {
   "cell_type": "markdown",
   "metadata": {},
   "source": [
    "### EW - Direct Multistep"
   ]
  },
  {
   "cell_type": "markdown",
   "metadata": {},
   "source": [
    "#### ESN"
   ]
  },
  {
   "cell_type": "code",
   "execution_count": 231,
   "metadata": {},
   "outputs": [],
   "source": [
    "def esn_multistep_ew(esnModel, Lambda, GDP_data, exo_data, steps):\n",
    "    GDP_fill_data_train = GDP_data[0]\n",
    "    GDP_fill_data_test = GDP_data[1]\n",
    "\n",
    "    x_train = exo_data[0]\n",
    "    x_test = exo_data[1]\n",
    "\n",
    "    GDP_test_dates = GDP_fill_data_test.index\n",
    "\n",
    "    forecast_ew = np.zeros((len(GDP_test_dates), steps))\n",
    "    W_list = []\n",
    "    L_list = []\n",
    "\n",
    "    for j in tqdm(range(len(GDP_fill_data_test)), desc=\"EW\", position=1, leave=False):\n",
    "        if j > 0:\n",
    "            #update data sets    \n",
    "            GDP_fill_data_train_j = pd.concat([\n",
    "                GDP_fill_data_train, \n",
    "                GDP_fill_data_test.iloc[0:j,]\n",
    "            ])\n",
    "            x_train_j = pd.concat([\n",
    "                x_train, \n",
    "                x_test.iloc[0:j,]\n",
    "            ])\n",
    "            GDP_fill_data_test_j = GDP_fill_data_test.iloc[[j],]\n",
    "            x_test_j = x_test.iloc[[j],]\n",
    "        else:\n",
    "            GDP_fill_data_train_j = GDP_fill_data_train\n",
    "            x_train_j = x_train\n",
    "            GDP_fill_data_test_j = GDP_fill_data_test.iloc[[0],]\n",
    "            x_test_j = x_test.iloc[[0],]\n",
    "\n",
    "        # Normalize\n",
    "        GDP_fill_data_train_j, GDP_fill_data_test_j, mu_j, sig_j = (\n",
    "            normalize_train_test(GDP_fill_data_train_j, GDP_fill_data_test_j,\n",
    "                return_mu_sig=True)\n",
    "        )\n",
    "        x_train_j, x_test_j = (\n",
    "            normalize_train_test(x_train_j, x_test_j)\n",
    "        )\n",
    "\n",
    "        #fit model\n",
    "        esn_fit_multi = esnModel.fitDirectMultistep(\n",
    "            train_data = (x_train_j, GDP_fill_data_train_j), \n",
    "            method= ridgeFit(Lambda), \n",
    "            steps =steps)\n",
    "        \n",
    "        #forecast\n",
    "        esn_for = forecastDirectMultistep(\n",
    "            model = esnModel, \n",
    "            forecast_data = x_test_j, \n",
    "            fit= esn_fit_multi)\n",
    "\n",
    "        #undo normalizing \n",
    "        forecast_ew[j, :] = (esn_for['forecast'][0]* sig_j.to_numpy()).flatten()+ mu_j.to_numpy()\n",
    "      \n",
    "    \n",
    "    #output\n",
    "    return({'Lambda': Lambda,  \n",
    "            'forecast':forecast_ew,\n",
    "            'fit': esn_fit_multi})\n",
    "   "
   ]
  },
  {
   "cell_type": "code",
   "execution_count": 232,
   "metadata": {},
   "outputs": [
    {
     "name": "stderr",
     "output_type": "stream",
     "text": []
    }
   ],
   "source": [
    "esn_a_multi_ew= esn_multistep_ew(esn_a, GDP_data= [GDP_fill_data_train, GDP_fill_data_test], exo_data=[x_train,x_test], steps= 8, Lambda= esn_a_multistep['Lambda'])"
   ]
  },
  {
   "cell_type": "code",
   "execution_count": 233,
   "metadata": {},
   "outputs": [
    {
     "name": "stderr",
     "output_type": "stream",
     "text": []
    }
   ],
   "source": [
    "esn_b_multi_ew= esn_multistep_ew(esn_b, GDP_data= [GDP_fill_data_train, GDP_fill_data_test], exo_data=[x_train,x_test], steps= 8, Lambda= esn_a_multistep['Lambda'])"
   ]
  },
  {
   "cell_type": "code",
   "execution_count": 234,
   "metadata": {},
   "outputs": [
    {
     "name": "stderr",
     "output_type": "stream",
     "text": []
    }
   ],
   "source": [
    "esn_c_multi_ew= esn_multistep_ew(esn_c, GDP_data= [GDP_fill_data_train, GDP_fill_data_test], exo_data=[x_train,x_test], steps= 8, Lambda= esn_a_multistep['Lambda'])"
   ]
  },
  {
   "cell_type": "code",
   "execution_count": 235,
   "metadata": {},
   "outputs": [
    {
     "name": "stderr",
     "output_type": "stream",
     "text": []
    }
   ],
   "source": [
    "esn_d_multi_ew= esn_multistep_ew(esn_d, GDP_data= [GDP_fill_data_train, GDP_fill_data_test], exo_data=[x_train,x_test], steps= 8, Lambda= esn_a_multistep['Lambda'])"
   ]
  },
  {
   "cell_type": "code",
   "execution_count": 236,
   "metadata": {},
   "outputs": [
    {
     "name": "stderr",
     "output_type": "stream",
     "text": []
    }
   ],
   "source": [
    "esn_e_multi_ew= esn_multistep_ew(esn_e, GDP_data= [GDP_fill_data_train, GDP_fill_data_test], exo_data=[x_train,x_test], steps= 8, Lambda= esn_a_multistep['Lambda'])"
   ]
  },
  {
   "cell_type": "code",
   "execution_count": 237,
   "metadata": {},
   "outputs": [
    {
     "name": "stdout",
     "output_type": "stream",
     "text": [
      "RMSE for A:           0\n",
      "1  0.002824\n",
      "2  0.002525\n",
      "3  0.002500\n",
      "4  0.002555\n",
      "5  0.002500\n",
      "6  0.002499\n",
      "7  0.002497\n",
      "8  0.002497\n",
      "RMSE for B:           0\n",
      "1  0.002806\n",
      "2  0.002547\n",
      "3  0.002500\n",
      "4  0.002582\n",
      "5  0.002500\n",
      "6  0.002499\n",
      "7  0.002497\n",
      "8  0.002497\n",
      "RMSE for C:           0\n",
      "1  0.002843\n",
      "2  0.002533\n",
      "3  0.002500\n",
      "4  0.002555\n",
      "5  0.002500\n",
      "6  0.002499\n",
      "7  0.002497\n",
      "8  0.002497\n",
      "RMSE for D:           0\n",
      "1  0.002797\n",
      "2  0.002548\n",
      "3  0.002500\n",
      "4  0.002598\n",
      "5  0.002500\n",
      "6  0.002499\n",
      "7  0.002497\n",
      "8  0.002497\n",
      "RMSE for E:           0\n",
      "1  0.003002\n",
      "2  0.002588\n",
      "3  0.002500\n",
      "4  0.002621\n",
      "5  0.002500\n",
      "6  0.002499\n",
      "7  0.002497\n",
      "8  0.002497\n"
     ]
    }
   ],
   "source": [
    "esn_a_multi_ew_for = np.squeeze(esn_a_multi_ew['forecast'])\n",
    "esn_a_multi_ew_for = pd.DataFrame(esn_a_multi_ew_for)\n",
    "# display(esn_a_multi_ew_for)\n",
    "print('RMSE for A:',hStepRMSFE(esn_a_multi_ew_for))\n",
    "\n",
    "esn_b_multi_ew_for = np.squeeze(esn_b_multi_ew['forecast'])\n",
    "esn_b_multi_ew_for = pd.DataFrame(esn_b_multi_ew_for)\n",
    "# display(esn_a_multi_ew_for)\n",
    "print('RMSE for B:',hStepRMSFE(esn_b_multi_ew_for))\n",
    "\n",
    "esn_c_multi_ew_for = np.squeeze(esn_c_multi_ew['forecast'])\n",
    "esn_c_multi_ew_for = pd.DataFrame(esn_c_multi_ew_for)\n",
    "print('RMSE for C:',hStepRMSFE(esn_c_multi_ew_for))\n",
    "\n",
    "esn_d_multi_ew_for = np.squeeze(esn_d_multi_ew['forecast'])\n",
    "esn_d_multi_ew_for = pd.DataFrame(esn_d_multi_ew_for)\n",
    "print('RMSE for D:',hStepRMSFE(esn_d_multi_ew_for))\n",
    "\n",
    "esn_e_multi_ew_for = np.squeeze(esn_e_multi_ew['forecast'])\n",
    "esn_e_multi_ew_for = pd.DataFrame(esn_e_multi_ew_for)\n",
    "print('RMSE for E:',hStepRMSFE(esn_e_multi_ew_for))\n"
   ]
  },
  {
   "cell_type": "markdown",
   "metadata": {},
   "source": [
    "#### AR"
   ]
  },
  {
   "cell_type": "code",
   "execution_count": 238,
   "metadata": {},
   "outputs": [],
   "source": [
    "# direct multi-step using AR(1)\n",
    "# Expanding window method \n",
    "def ar_directmultistep(steps, data):\n",
    "    \n",
    "    GDP_data_train = data[0]\n",
    "    GDP_data_test = data[1]\n",
    "    # x_train, x_test = data[0].iloc[:, 1:], data[1].iloc[:, 1:]\n",
    "    GDP_test_dates = GDP_data_test.index\n",
    "    \n",
    "    # Change the index of the DataFrame\n",
    "    # new_index = range(len(x_train), len(x_train)+ len(x_test))\n",
    "    # GDP_test_series = GDP_fill_data_test.set_index(pd.Index(new_index))\n",
    "    GDP_test_series = pd.Series(GDP_data_test.values.flatten())\n",
    "    GDP_train_series = pd.Series(GDP_data_train.values.flatten())\n",
    "\n",
    "    pred = np.zeros((len(x_test),steps))\n",
    "\n",
    "    forecaster = ForecasterAutoregDirect(\n",
    "                    regressor = LinearRegression(),\n",
    "                    lags  = 1,\n",
    "                    steps = steps)\n",
    "    \n",
    "    for j in range (len(GDP_data_test)): \n",
    "        forecaster.fit(y= GDP_train_series)\n",
    "        # exog = x_train.reset_index().iloc[:,1:4]\n",
    "        pred[j] = forecaster.predict(steps=8)\n",
    "        GDP_train_series = GDP_train_series._append(pd.Series(GDP_test_series[j]),  ignore_index=True)\n",
    "\n",
    "    return pd.DataFrame(data=pred, index=GDP_test_dates, columns=range(steps))\n"
   ]
  },
  {
   "cell_type": "code",
   "execution_count": 239,
   "metadata": {},
   "outputs": [
    {
     "data": {
      "text/html": [
       "<div>\n",
       "<style scoped>\n",
       "    .dataframe tbody tr th:only-of-type {\n",
       "        vertical-align: middle;\n",
       "    }\n",
       "\n",
       "    .dataframe tbody tr th {\n",
       "        vertical-align: top;\n",
       "    }\n",
       "\n",
       "    .dataframe thead th {\n",
       "        text-align: right;\n",
       "    }\n",
       "</style>\n",
       "<table border=\"1\" class=\"dataframe\">\n",
       "  <thead>\n",
       "    <tr style=\"text-align: right;\">\n",
       "      <th></th>\n",
       "      <th>0</th>\n",
       "    </tr>\n",
       "  </thead>\n",
       "  <tbody>\n",
       "    <tr>\n",
       "      <th>1</th>\n",
       "      <td>0.002849</td>\n",
       "    </tr>\n",
       "    <tr>\n",
       "      <th>2</th>\n",
       "      <td>0.002716</td>\n",
       "    </tr>\n",
       "    <tr>\n",
       "      <th>3</th>\n",
       "      <td>0.002535</td>\n",
       "    </tr>\n",
       "    <tr>\n",
       "      <th>4</th>\n",
       "      <td>0.002497</td>\n",
       "    </tr>\n",
       "    <tr>\n",
       "      <th>5</th>\n",
       "      <td>0.002521</td>\n",
       "    </tr>\n",
       "    <tr>\n",
       "      <th>6</th>\n",
       "      <td>0.002519</td>\n",
       "    </tr>\n",
       "    <tr>\n",
       "      <th>7</th>\n",
       "      <td>0.002499</td>\n",
       "    </tr>\n",
       "    <tr>\n",
       "      <th>8</th>\n",
       "      <td>0.002509</td>\n",
       "    </tr>\n",
       "  </tbody>\n",
       "</table>\n",
       "</div>"
      ],
      "text/plain": [
       "          0\n",
       "1  0.002849\n",
       "2  0.002716\n",
       "3  0.002535\n",
       "4  0.002497\n",
       "5  0.002521\n",
       "6  0.002519\n",
       "7  0.002499\n",
       "8  0.002509"
      ]
     },
     "execution_count": 239,
     "metadata": {},
     "output_type": "execute_result"
    }
   ],
   "source": [
    "warnings.filterwarnings(\"ignore\")\n",
    "ar_multi_direct_ew = ar_directmultistep(steps =8, data=[GDP_fill_data_train, GDP_fill_data_test])\n",
    "warnings.resetwarnings()\n",
    "\n",
    "hStepRMSFE(ar_multi_direct_ew)"
   ]
  },
  {
   "cell_type": "markdown",
   "metadata": {},
   "source": [
    "#### VAR"
   ]
  },
  {
   "cell_type": "code",
   "execution_count": 248,
   "metadata": {},
   "outputs": [],
   "source": [
    "def var_multi_ew(steps, data): \n",
    "    train = data[0]\n",
    "    test = data[1]\n",
    "    GDP_data_train = data[0]['GDP']\n",
    "    GDP_data_test = data[1]['GDP']\n",
    "    x_train, x_test = data[0].iloc[:, 1:], data[1].iloc[:, 1:]\n",
    "    GDP_test_dates = GDP_data_test.index\n",
    "\n",
    "    # set up model\n",
    "    var_model = sm.tsa.VAR(data[0])\n",
    "    var_fit = var_model.fit(1)\n",
    "\n",
    "    # forecast multistep \n",
    "    var_forecast = np.zeros((len(test), steps))\n",
    "    for i in range(len(test)):\n",
    "        if i > 0:\n",
    "            # update dataset\n",
    "            train_i = pd.concat([train, test.iloc[0:i,]], axis =0)\n",
    "           \n",
    "            var_model = sm.tsa.VAR(train_i)\n",
    "            var_fit = var_model.fit(1)\n",
    "            var_fore = var_fit.forecast(test.values[[i-1]], steps)\n",
    "            var_forecast[i, :]= var_fore[:,0] # get GDP forecast\n",
    "\n",
    "        else:\n",
    "            var_fore = var_fit.forecast(train.values[-1:], steps)\n",
    "            var_forecast[i, :]= var_fore[:,0]\n",
    "\n",
    "    return pd.DataFrame(data=var_forecast, index=GDP_test_dates, columns=range(steps))"
   ]
  },
  {
   "cell_type": "code",
   "execution_count": 249,
   "metadata": {},
   "outputs": [
    {
     "data": {
      "text/html": [
       "<div>\n",
       "<style scoped>\n",
       "    .dataframe tbody tr th:only-of-type {\n",
       "        vertical-align: middle;\n",
       "    }\n",
       "\n",
       "    .dataframe tbody tr th {\n",
       "        vertical-align: top;\n",
       "    }\n",
       "\n",
       "    .dataframe thead th {\n",
       "        text-align: right;\n",
       "    }\n",
       "</style>\n",
       "<table border=\"1\" class=\"dataframe\">\n",
       "  <thead>\n",
       "    <tr style=\"text-align: right;\">\n",
       "      <th></th>\n",
       "      <th>0</th>\n",
       "    </tr>\n",
       "  </thead>\n",
       "  <tbody>\n",
       "    <tr>\n",
       "      <th>1</th>\n",
       "      <td>0.003125</td>\n",
       "    </tr>\n",
       "    <tr>\n",
       "      <th>2</th>\n",
       "      <td>0.002894</td>\n",
       "    </tr>\n",
       "    <tr>\n",
       "      <th>3</th>\n",
       "      <td>0.002735</td>\n",
       "    </tr>\n",
       "    <tr>\n",
       "      <th>4</th>\n",
       "      <td>0.002641</td>\n",
       "    </tr>\n",
       "    <tr>\n",
       "      <th>5</th>\n",
       "      <td>0.002574</td>\n",
       "    </tr>\n",
       "    <tr>\n",
       "      <th>6</th>\n",
       "      <td>0.002549</td>\n",
       "    </tr>\n",
       "    <tr>\n",
       "      <th>7</th>\n",
       "      <td>0.002523</td>\n",
       "    </tr>\n",
       "    <tr>\n",
       "      <th>8</th>\n",
       "      <td>0.002515</td>\n",
       "    </tr>\n",
       "  </tbody>\n",
       "</table>\n",
       "</div>"
      ],
      "text/plain": [
       "          0\n",
       "1  0.003125\n",
       "2  0.002894\n",
       "3  0.002735\n",
       "4  0.002641\n",
       "5  0.002574\n",
       "6  0.002549\n",
       "7  0.002523\n",
       "8  0.002515"
      ]
     },
     "execution_count": 249,
     "metadata": {},
     "output_type": "execute_result"
    }
   ],
   "source": [
    "warnings.filterwarnings(\"ignore\")\n",
    "var_multi_for_ew = var_multi_ew(steps =8, data=[data_new_train, data_new_test])\n",
    "hStepRMSFE(var_multi_for_ew)"
   ]
  },
  {
   "cell_type": "code",
   "execution_count": 250,
   "metadata": {},
   "outputs": [
    {
     "data": {
      "text/plain": [
       "<matplotlib.legend.Legend at 0x213b4d23490>"
      ]
     },
     "execution_count": 250,
     "metadata": {},
     "output_type": "execute_result"
    },
    {
     "data": {
      "image/png": "[encoded data removed]",
      "text/plain": [
       "<Figure size 1000x350 with 1 Axes>"
      ]
     },
     "metadata": {},
     "output_type": "display_data"
    }
   ],
   "source": [
    "fig, ax = plt.subplots(figsize=(10, 3.5))\n",
    "plt.grid()\n",
    "plt.plot(hStepRMSFE(esn_a_multi_ew_for), label=\"esn_A\", c=\"C0\") \n",
    "plt.plot(hStepRMSFE(esn_b_multi_ew_for), label=\"esn_B\", c=\"C1\") \n",
    "plt.plot(hStepRMSFE(esn_c_multi_ew_for), label=\"esn_C\", c=\"C2\") \n",
    "plt.plot(hStepRMSFE(esn_d_multi_ew_for), label=\"esn_D\", c=\"C3\")\n",
    "plt.plot(hStepRMSFE(esn_e_multi_ew_for), label=\"esn_E\", c=\"C4\")\n",
    "plt.plot(hStepRMSFE(ar_multi_direct_ew), label=\"ARX\", c=\"C5\")\n",
    "plt.plot(hStepRMSFE(var_multi_for_ew), label=\"VAR\", c=\"C6\") \n",
    "plt.legend()"
   ]
  },
  {
   "cell_type": "markdown",
   "metadata": {},
   "source": [
    "### RW - Multistep"
   ]
  },
  {
   "cell_type": "markdown",
   "metadata": {},
   "source": [
    "#### ESN"
   ]
  },
  {
   "cell_type": "markdown",
   "metadata": {},
   "source": [
    "#### AR"
   ]
  },
  {
   "cell_type": "code",
   "execution_count": 241,
   "metadata": {},
   "outputs": [],
   "source": [
    "# direct multi-step using AR(1)\n",
    "# Rolling window method \n",
    "def ar_directmultistep_RW(steps, data):\n",
    "    \n",
    "    GDP_data_train = data[0]\n",
    "    GDP_data_test = data[1]\n",
    "    # x_train, x_test = data[0].iloc[:, 1:], data[1].iloc[:, 1:]\n",
    "    GDP_test_dates = GDP_data_test.index\n",
    "    \n",
    "    # Change the index of the DataFrame\n",
    "    GDP_test_series = pd.Series(GDP_data_test.values.flatten())\n",
    "    GDP_train_series = pd.Series(GDP_data_train.values.flatten())\n",
    "\n",
    "    pred = np.zeros((len(x_test),steps))\n",
    "\n",
    "    forecaster = ForecasterAutoregDirect(\n",
    "                    regressor = LinearRegression(),\n",
    "                    lags  = 1,\n",
    "                    steps = steps)\n",
    "    \n",
    "    for j in range (len(GDP_data_test)): \n",
    "        forecaster.fit(y= GDP_train_series)\n",
    "        # exog = x_train.reset_index().iloc[:,1:4]\n",
    "        pred[j] = forecaster.predict(steps=8)\n",
    "        GDP_train_series = GDP_train_series._append(pd.Series(GDP_test_series[j]),  ignore_index=True)\n",
    "        GDP_train_series = GDP_train_series[1:]\n",
    "        \n",
    "\n",
    "    return pd.DataFrame(data=pred, index=GDP_test_dates, columns=range(steps))"
   ]
  },
  {
   "cell_type": "code",
   "execution_count": 242,
   "metadata": {},
   "outputs": [
    {
     "data": {
      "text/html": [
       "<div>\n",
       "<style scoped>\n",
       "    .dataframe tbody tr th:only-of-type {\n",
       "        vertical-align: middle;\n",
       "    }\n",
       "\n",
       "    .dataframe tbody tr th {\n",
       "        vertical-align: top;\n",
       "    }\n",
       "\n",
       "    .dataframe thead th {\n",
       "        text-align: right;\n",
       "    }\n",
       "</style>\n",
       "<table border=\"1\" class=\"dataframe\">\n",
       "  <thead>\n",
       "    <tr style=\"text-align: right;\">\n",
       "      <th></th>\n",
       "      <th>0</th>\n",
       "    </tr>\n",
       "  </thead>\n",
       "  <tbody>\n",
       "    <tr>\n",
       "      <th>1</th>\n",
       "      <td>0.002822</td>\n",
       "    </tr>\n",
       "    <tr>\n",
       "      <th>2</th>\n",
       "      <td>0.002707</td>\n",
       "    </tr>\n",
       "    <tr>\n",
       "      <th>3</th>\n",
       "      <td>0.002535</td>\n",
       "    </tr>\n",
       "    <tr>\n",
       "      <th>4</th>\n",
       "      <td>0.002514</td>\n",
       "    </tr>\n",
       "    <tr>\n",
       "      <th>5</th>\n",
       "      <td>0.002552</td>\n",
       "    </tr>\n",
       "    <tr>\n",
       "      <th>6</th>\n",
       "      <td>0.002573</td>\n",
       "    </tr>\n",
       "    <tr>\n",
       "      <th>7</th>\n",
       "      <td>0.002553</td>\n",
       "    </tr>\n",
       "    <tr>\n",
       "      <th>8</th>\n",
       "      <td>0.002542</td>\n",
       "    </tr>\n",
       "  </tbody>\n",
       "</table>\n",
       "</div>"
      ],
      "text/plain": [
       "          0\n",
       "1  0.002822\n",
       "2  0.002707\n",
       "3  0.002535\n",
       "4  0.002514\n",
       "5  0.002552\n",
       "6  0.002573\n",
       "7  0.002553\n",
       "8  0.002542"
      ]
     },
     "execution_count": 242,
     "metadata": {},
     "output_type": "execute_result"
    }
   ],
   "source": [
    "warnings.filterwarnings(\"ignore\")\n",
    "ar_multi_rw = ar_directmultistep_RW(steps =8, data=[GDP_fill_data_train, GDP_fill_data_test])\n",
    "warnings.resetwarnings()\n",
    "\n",
    "hStepRMSFE(ar_multi_rw)"
   ]
  },
  {
   "cell_type": "markdown",
   "metadata": {},
   "source": [
    "### Comparison \n",
    "- model confidence set\n",
    "- pairwise Modified Diehold-Mariano test\n",
    "    - H0: 2 set of forecasts have the same accuracy\n",
    "    - H1: different level of accuracy\n",
    "\n",
    "Prepare the dataset and conduct the tests in R"
   ]
  },
  {
   "cell_type": "code",
   "execution_count": 243,
   "metadata": {},
   "outputs": [
    {
     "ename": "ValueError",
     "evalue": "all the input array dimensions except for the concatenation axis must match exactly, but along dimension 0, the array at index 0 has size 18 and the array at index 2 has size 19",
     "output_type": "error",
     "traceback": [
      "\u001b[1;31m---------------------------------------------------------------------------\u001b[0m",
      "\u001b[1;31mValueError\u001b[0m                                Traceback (most recent call last)",
      "Cell \u001b[1;32mIn[243], line 1\u001b[0m\n\u001b[1;32m----> 1\u001b[0m mcs_data_fix \u001b[38;5;241m=\u001b[39m pd\u001b[38;5;241m.\u001b[39mDataFrame(\u001b[43mnp\u001b[49m\u001b[38;5;241;43m.\u001b[39;49m\u001b[43mc_\u001b[49m\u001b[43m[\u001b[49m\u001b[43marx_forecast\u001b[49m\u001b[38;5;241;43m.\u001b[39;49m\u001b[43mvalues\u001b[49m\u001b[43m,\u001b[49m\u001b[43m \u001b[49m\u001b[43mvar_forecast\u001b[49m\u001b[43m[\u001b[49m\u001b[43m:\u001b[49m\u001b[43m,\u001b[49m\u001b[38;5;241;43m0\u001b[39;49m\u001b[43m]\u001b[49m\u001b[43m,\u001b[49m\u001b[43m \u001b[49m\u001b[43mesn_fit_a\u001b[49m\u001b[43m[\u001b[49m\u001b[38;5;124;43m'\u001b[39;49m\u001b[38;5;124;43mforecast\u001b[39;49m\u001b[38;5;124;43m'\u001b[39;49m\u001b[43m]\u001b[49m\u001b[43m[\u001b[49m\u001b[38;5;241;43m0\u001b[39;49m\u001b[43m:\u001b[49m\u001b[38;5;241;43m49\u001b[39;49m\u001b[43m]\u001b[49m\u001b[43m,\u001b[49m\u001b[43m \u001b[49m\u001b[43mesn_fit_b\u001b[49m\u001b[43m[\u001b[49m\u001b[38;5;124;43m'\u001b[39;49m\u001b[38;5;124;43mforecast\u001b[39;49m\u001b[38;5;124;43m'\u001b[39;49m\u001b[43m]\u001b[49m\u001b[43m[\u001b[49m\u001b[38;5;241;43m0\u001b[39;49m\u001b[43m:\u001b[49m\u001b[38;5;241;43m49\u001b[39;49m\u001b[43m]\u001b[49m\u001b[43m,\u001b[49m\u001b[43m \u001b[49m\u001b[43mesn_fit_c\u001b[49m\u001b[43m[\u001b[49m\u001b[38;5;124;43m'\u001b[39;49m\u001b[38;5;124;43mforecast\u001b[39;49m\u001b[38;5;124;43m'\u001b[39;49m\u001b[43m]\u001b[49m\u001b[43m[\u001b[49m\u001b[38;5;241;43m0\u001b[39;49m\u001b[43m:\u001b[49m\u001b[38;5;241;43m49\u001b[39;49m\u001b[43m]\u001b[49m\u001b[43m,\u001b[49m\u001b[43m \u001b[49m\u001b[43mesn_fit_d\u001b[49m\u001b[43m[\u001b[49m\u001b[38;5;124;43m'\u001b[39;49m\u001b[38;5;124;43mforecast\u001b[39;49m\u001b[38;5;124;43m'\u001b[39;49m\u001b[43m]\u001b[49m\u001b[43m[\u001b[49m\u001b[38;5;241;43m0\u001b[39;49m\u001b[43m:\u001b[49m\u001b[38;5;241;43m49\u001b[39;49m\u001b[43m]\u001b[49m\u001b[43m,\u001b[49m\u001b[43m \u001b[49m\u001b[43mesn_fit_e\u001b[49m\u001b[43m[\u001b[49m\u001b[38;5;124;43m'\u001b[39;49m\u001b[38;5;124;43mforecast\u001b[39;49m\u001b[38;5;124;43m'\u001b[39;49m\u001b[43m]\u001b[49m\u001b[43m[\u001b[49m\u001b[38;5;241;43m0\u001b[39;49m\u001b[43m:\u001b[49m\u001b[38;5;241;43m49\u001b[39;49m\u001b[43m]\u001b[49m\u001b[43m \u001b[49m\u001b[43m]\u001b[49m, columns \u001b[38;5;241m=\u001b[39m [\u001b[38;5;124m'\u001b[39m\u001b[38;5;124mARX\u001b[39m\u001b[38;5;124m'\u001b[39m, \u001b[38;5;124m'\u001b[39m\u001b[38;5;124mVAR\u001b[39m\u001b[38;5;124m'\u001b[39m, \u001b[38;5;124m'\u001b[39m\u001b[38;5;124mESN_A\u001b[39m\u001b[38;5;124m'\u001b[39m, \u001b[38;5;124m'\u001b[39m\u001b[38;5;124mESN_B\u001b[39m\u001b[38;5;124m'\u001b[39m, \u001b[38;5;124m'\u001b[39m\u001b[38;5;124mESN_C\u001b[39m\u001b[38;5;124m'\u001b[39m, \u001b[38;5;124m'\u001b[39m\u001b[38;5;124mESN_D\u001b[39m\u001b[38;5;124m'\u001b[39m, \u001b[38;5;124m'\u001b[39m\u001b[38;5;124mESN_E\u001b[39m\u001b[38;5;124m'\u001b[39m])\n\u001b[0;32m      3\u001b[0m mcs_data_fix\u001b[38;5;241m.\u001b[39mindex \u001b[38;5;241m=\u001b[39m data_new_test\u001b[38;5;241m.\u001b[39mindex\n\u001b[0;32m      4\u001b[0m mcs_data_fix\u001b[38;5;241m.\u001b[39mto_csv(\u001b[38;5;124m'\u001b[39m\u001b[38;5;124mMCS_Fix.csv\u001b[39m\u001b[38;5;124m'\u001b[39m, index\u001b[38;5;241m=\u001b[39m\u001b[38;5;28;01mTrue\u001b[39;00m)\n",
      "File \u001b[1;32mc:\\Users\\zhouq\\AppData\\Local\\Programs\\Python\\Python311\\Lib\\site-packages\\numpy\\lib\\index_tricks.py:418\u001b[0m, in \u001b[0;36mAxisConcatenator.__getitem__\u001b[1;34m(self, key)\u001b[0m\n\u001b[0;32m    414\u001b[0m     \u001b[38;5;66;03m# concatenate could do cast, but that can be overriden:\u001b[39;00m\n\u001b[0;32m    415\u001b[0m     objs \u001b[38;5;241m=\u001b[39m [array(obj, copy\u001b[38;5;241m=\u001b[39m\u001b[38;5;28;01mFalse\u001b[39;00m, subok\u001b[38;5;241m=\u001b[39m\u001b[38;5;28;01mTrue\u001b[39;00m,\n\u001b[0;32m    416\u001b[0m                   ndmin\u001b[38;5;241m=\u001b[39mndmin, dtype\u001b[38;5;241m=\u001b[39mfinal_dtype) \u001b[38;5;28;01mfor\u001b[39;00m obj \u001b[38;5;129;01min\u001b[39;00m objs]\n\u001b[1;32m--> 418\u001b[0m res \u001b[38;5;241m=\u001b[39m \u001b[38;5;28;43mself\u001b[39;49m\u001b[38;5;241;43m.\u001b[39;49m\u001b[43mconcatenate\u001b[49m\u001b[43m(\u001b[49m\u001b[38;5;28;43mtuple\u001b[39;49m\u001b[43m(\u001b[49m\u001b[43mobjs\u001b[49m\u001b[43m)\u001b[49m\u001b[43m,\u001b[49m\u001b[43m \u001b[49m\u001b[43maxis\u001b[49m\u001b[38;5;241;43m=\u001b[39;49m\u001b[43maxis\u001b[49m\u001b[43m)\u001b[49m\n\u001b[0;32m    420\u001b[0m \u001b[38;5;28;01mif\u001b[39;00m matrix:\n\u001b[0;32m    421\u001b[0m     oldndim \u001b[38;5;241m=\u001b[39m res\u001b[38;5;241m.\u001b[39mndim\n",
      "\u001b[1;31mValueError\u001b[0m: all the input array dimensions except for the concatenation axis must match exactly, but along dimension 0, the array at index 0 has size 18 and the array at index 2 has size 19"
     ]
    }
   ],
   "source": [
    "mcs_data_fix = pd.DataFrame(np.c_[arx_forecast.values, var_forecast[:,0], esn_fit_a['forecast'][0:49], esn_fit_b['forecast'][0:49], esn_fit_c['forecast'][0:49], esn_fit_d['forecast'][0:49], esn_fit_e['forecast'][0:49] ], columns = ['ARX', 'VAR', 'ESN_A', 'ESN_B', 'ESN_C', 'ESN_D', 'ESN_E'])\n",
    "\n",
    "mcs_data_fix.index = data_new_test.index\n",
    "mcs_data_fix.to_csv('MCS_Fix.csv', index=True)\n",
    "\n",
    "mcs_data_fix = mcs_data_fix - GDP_fill_data_test.to_numpy()"
   ]
  },
  {
   "cell_type": "code",
   "execution_count": null,
   "metadata": {},
   "outputs": [],
   "source": [
    "mcs_25_fix = ModelConfidenceSet(data = np.square(mcs_data_fix), alpha=0.25, B=10000, w=2, algorithm='R', seed=1234\n",
    ").run()\n",
    "\n",
    "mcs_10_fix = ModelConfidenceSet(\n",
    "    data=np.square(mcs_data_fix), alpha=0.10, B=10000, w=2, algorithm='R', seed=1234\n",
    ").run()\n",
    "\n",
    "print(f\"MCS 25 included: {mcs_25_fix.included}\")\n",
    "print(f\"MCS 10 included: {mcs_10_fix.included}\")\n",
    "\n",
    "mcs_25_fix.pvalues"
   ]
  },
  {
   "cell_type": "code",
   "execution_count": null,
   "metadata": {},
   "outputs": [],
   "source": [
    "mcs_data_ew = pd.DataFrame(np.c_[arx_fore_ew, var_fore_ew,esn_A_ew['forecast'], esn_B_ew['forecast'], esn_C_ew['forecast'], esn_D_ew['forecast'], esn_E_ew['forecast'] ], columns = ['ARX', 'VAR','ESN_A', ' ESN_B', 'ESN_C', 'ESN_D', 'ESN_E'])\n",
    "\n",
    "mcs_data_ew.index = data_new_test.index\n",
    "mcs_data_ew.to_csv('MCS_EW.csv', index=True)"
   ]
  },
  {
   "cell_type": "code",
   "execution_count": null,
   "metadata": {},
   "outputs": [],
   "source": [
    "mcs_data_rw = pd.DataFrame(np.c_[arx_fore_rw, var_fore_rw, esn_A_rw['forecast'], esn_B_rw['forecast'], esn_C_rw['forecast'], esn_D_rw['forecast'], esn_E_rw['forecast'] ], columns = ['ARX','VAR', 'ESN_A', ' ESN_B', 'ESN_C', 'ESN_D', 'ESN_E'])\n",
    "\n",
    "mcs_data_rw.index = data_new_test.index\n",
    "mcs_data_rw.to_csv('MCS_RW.csv', index=True)"
   ]
  },
  {
   "cell_type": "code",
   "execution_count": null,
   "metadata": {},
   "outputs": [],
   "source": [
    "# save all multi-step forecasts into csv files \n",
    "esn_a_multi_for.to_csv('multi_fore_ESN_A.csv', index=True)\n",
    "esn_b_multi_for.to_csv('multi_fore_ESN_B.csv', index=True)\n",
    "esn_c_multi_for.to_csv('multi_fore_ESN_C.csv', index=True)\n",
    "esn_d_multi_for.to_csv('multi_fore_ESN_D.csv', index=True)\n",
    "esn_e_multi_for.to_csv('multi_fore_ESN_E.csv', index=True)\n",
    "arx_multi_fore.to_csv('multi_fore_ARX.csv', index=True)\n",
    "var_multi_fore.to_csv('multi_fore_VAR.csv', index=True)\n"
   ]
  }
 ],
 "metadata": {
  "kernelspec": {
   "display_name": "Python 3",
   "language": "python",
   "name": "python3"
  },
  "language_info": {
   "codemirror_mode": {
    "name": "ipython",
    "version": 3
   },
   "file_extension": ".py",
   "mimetype": "text/x-python",
   "name": "python",
   "nbconvert_exporter": "python",
   "pygments_lexer": "ipython3",
   "version": "3.11.5"
  }
 },
 "nbformat": 4,
 "nbformat_minor": 2
}
