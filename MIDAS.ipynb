{
 "cells": [
  {
   "cell_type": "code",
   "execution_count": 5,
   "metadata": {},
   "outputs": [
    {
     "name": "stderr",
     "output_type": "stream",
     "text": [
      "c:\\Users\\zhouq\\OneDrive - Nanyang Technological University\\FYP\\Codes\\FYP\\newToolbox_MIDAS.py:40: RuntimeWarning: invalid value encountered in cast\n",
      "  freq = np.full(len(freq_in), np.nan).astype(int)\n",
      "c:\\Users\\zhouq\\OneDrive - Nanyang Technological University\\FYP\\Codes\\FYP\\newToolbox_MIDAS.py:26: RuntimeWarning: invalid value encountered in cast\n",
      "  lags = np.full(len(lags_in), np.nan).astype(int)\n"
     ]
    }
   ],
   "source": [
    "from newToolbox_MIDAS import MIDAS\n",
    "\n",
    "Y_lags = 3\n",
    "K =4\n",
    "X_lags = tuple(9 for _ in range(K))\n",
    "\n",
    "freqs = tuple(3 for _ in range(K))\n",
    "\n",
    "MIDAS_model = MIDAS(\n",
    "    freq=freqs, \n",
    "    ylags=Y_lags, \n",
    "    xlags=X_lags\n",
    ")\n",
    "\n"
   ]
  }
 ],
 "metadata": {
  "kernelspec": {
   "display_name": "Python 3",
   "language": "python",
   "name": "python3"
  },
  "language_info": {
   "codemirror_mode": {
    "name": "ipython",
    "version": 3
   },
   "file_extension": ".py",
   "mimetype": "text/x-python",
   "name": "python",
   "nbconvert_exporter": "python",
   "pygments_lexer": "ipython3",
   "version": "3.11.5"
  }
 },
 "nbformat": 4,
 "nbformat_minor": 2
}
