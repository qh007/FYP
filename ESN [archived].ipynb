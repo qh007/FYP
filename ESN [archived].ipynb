{
 "cells": [
  {
   "cell_type": "markdown",
   "metadata": {},
   "source": [
    "## Using ReservoirPy"
   ]
  },
  {
   "cell_type": "code",
   "execution_count": 39,
   "metadata": {},
   "outputs": [],
   "source": [
    "import reservoirpy as rpy"
   ]
  },
  {
   "cell_type": "code",
   "execution_count": 1,
   "metadata": {},
   "outputs": [
    {
     "name": "stdout",
     "output_type": "stream",
     "text": [
      "244\n"
     ]
    },
    {
     "data": {
      "text/plain": [
       "array([[ 7.05354590e-04],\n",
       "       [ 2.84484016e-03],\n",
       "       [ 2.22282546e-02],\n",
       "       [-5.40531605e-03],\n",
       "       [ 4.88227507e-03],\n",
       "       [-1.29171010e-02],\n",
       "       [ 6.72637255e-03],\n",
       "       [ 1.68318883e-02],\n",
       "       [ 1.90139536e-02],\n",
       "       [ 1.94211630e-02],\n",
       "       [ 1.76792845e-02],\n",
       "       [ 8.99605214e-03],\n",
       "       [ 1.22102807e-02],\n",
       "       [ 3.28361878e-03],\n",
       "       [ 1.08565966e-02],\n",
       "       [ 1.11587237e-02],\n",
       "       [ 2.17461733e-02],\n",
       "       [ 6.53462711e-03],\n",
       "       [ 2.08633596e-02],\n",
       "       [ 1.08284965e-02],\n",
       "       [ 1.55022239e-02],\n",
       "       [ 3.08395829e-03],\n",
       "       [ 2.39093975e-02],\n",
       "       [ 1.25538521e-02],\n",
       "       [ 2.19889833e-02],\n",
       "       [ 2.27789824e-02],\n",
       "       [ 2.40507360e-02],\n",
       "       [ 3.41019828e-03],\n",
       "       [ 8.43338931e-03],\n",
       "       [ 8.17060063e-03],\n",
       "       [ 8.81654566e-03],\n",
       "       [ 6.12790332e-04],\n",
       "       [ 9.41673225e-03],\n",
       "       [ 7.51188628e-03],\n",
       "       [ 2.01898771e-02],\n",
       "       [ 1.65699524e-02],\n",
       "       [ 7.71968306e-03],\n",
       "       [ 3.92548560e-03],\n",
       "       [ 1.55299389e-02],\n",
       "       [ 3.03534189e-03],\n",
       "       [ 6.58342368e-03],\n",
       "       [-4.88887698e-03],\n",
       "       [-1.48581028e-03],\n",
       "       [ 1.41829376e-03],\n",
       "       [ 9.17330459e-03],\n",
       "       [-1.07742150e-02],\n",
       "       [ 2.67976422e-02],\n",
       "       [ 5.39661285e-03],\n",
       "       [ 8.19599176e-03],\n",
       "       [ 2.35506305e-03],\n",
       "       [ 1.82225452e-02],\n",
       "       [ 2.24439629e-02],\n",
       "       [ 9.39950480e-03],\n",
       "       [ 1.66059423e-02],\n",
       "       [ 2.44467909e-02],\n",
       "       [ 1.08277926e-02],\n",
       "       [-5.27286250e-03],\n",
       "       [ 9.44739295e-03],\n",
       "       [-8.63489941e-03],\n",
       "       [ 2.37401208e-03],\n",
       "       [-9.49637597e-03],\n",
       "       [-3.88896004e-03],\n",
       "       [-1.22475548e-02],\n",
       "       [ 7.11995502e-03],\n",
       "       [ 1.69716825e-02],\n",
       "       [ 1.33753908e-02],\n",
       "       [ 2.22384829e-02],\n",
       "       [ 7.31022087e-03],\n",
       "       [ 5.47205858e-03],\n",
       "       [ 7.22236560e-03],\n",
       "       [ 1.17455857e-02],\n",
       "       [ 1.92545661e-02],\n",
       "       [ 1.78827060e-02],\n",
       "       [ 2.18574804e-05],\n",
       "       [ 3.18654997e-03],\n",
       "       [ 3.79147664e-02],\n",
       "       [ 1.00049544e-02],\n",
       "       [ 1.33518960e-02],\n",
       "       [ 1.79625864e-03],\n",
       "       [ 1.06862713e-03],\n",
       "       [ 7.40125767e-03],\n",
       "       [ 2.49762867e-03],\n",
       "       [ 3.14025499e-03],\n",
       "       [-2.08199607e-02],\n",
       "       [-1.18917796e-03],\n",
       "       [ 1.84774909e-02],\n",
       "       [ 1.94047978e-02],\n",
       "       [-7.43823131e-03],\n",
       "       [ 1.19041161e-02],\n",
       "       [-1.09554331e-02],\n",
       "       [-1.56573844e-02],\n",
       "       [ 4.55161084e-03],\n",
       "       [-3.83031906e-03],\n",
       "       [ 3.99382975e-04],\n",
       "       [ 1.30923951e-02],\n",
       "       [ 2.25010660e-02],\n",
       "       [ 1.97934537e-02],\n",
       "       [ 2.06475397e-02],\n",
       "       [ 1.93591004e-02],\n",
       "       [ 1.71303606e-02],\n",
       "       [ 9.59446188e-03],\n",
       "       [ 8.17506438e-03],\n",
       "       [ 9.64406911e-03],\n",
       "       [ 8.76612851e-03],\n",
       "       [ 1.51557814e-02],\n",
       "       [ 7.40578281e-03],\n",
       "       [ 9.29194295e-03],\n",
       "       [ 4.49366199e-03],\n",
       "       [ 9.52442716e-03],\n",
       "       [ 5.35549091e-03],\n",
       "       [ 7.42258066e-03],\n",
       "       [ 1.07306433e-02],\n",
       "       [ 8.63825120e-03],\n",
       "       [ 1.70246163e-02],\n",
       "       [ 5.15324089e-03],\n",
       "       [ 1.30534381e-02],\n",
       "       [ 5.84218430e-03],\n",
       "       [ 1.32370085e-02],\n",
       "       [ 1.01146508e-02],\n",
       "       [ 7.60367522e-03],\n",
       "       [ 7.38145981e-03],\n",
       "       [ 1.96857084e-03],\n",
       "       [ 1.08686755e-02],\n",
       "       [ 3.62254855e-03],\n",
       "       [ 6.64903224e-04],\n",
       "       [-9.14563957e-03],\n",
       "       [-4.68965510e-03],\n",
       "       [ 7.76693946e-03],\n",
       "       [ 5.04065882e-03],\n",
       "       [ 3.47957826e-03],\n",
       "       [ 1.19004833e-02],\n",
       "       [ 1.07848400e-02],\n",
       "       [ 9.83257331e-03],\n",
       "       [ 1.03747939e-02],\n",
       "       [ 1.66839837e-03],\n",
       "       [ 5.80425719e-03],\n",
       "       [ 4.76021804e-03],\n",
       "       [ 1.35090955e-02],\n",
       "       [ 9.65635537e-03],\n",
       "       [ 1.34600039e-02],\n",
       "       [ 5.82834233e-03],\n",
       "       [ 1.13900688e-02],\n",
       "       [ 3.54067909e-03],\n",
       "       [ 2.97861650e-03],\n",
       "       [ 8.47067103e-03],\n",
       "       [ 6.76741466e-03],\n",
       "       [ 7.46180465e-03],\n",
       "       [ 1.65412751e-02],\n",
       "       [ 8.93011691e-03],\n",
       "       [ 1.03304333e-02],\n",
       "       [ 6.43485958e-03],\n",
       "       [ 1.64831839e-02],\n",
       "       [ 1.24302096e-02],\n",
       "       [ 8.55077334e-03],\n",
       "       [ 9.94414669e-03],\n",
       "       [ 9.21561059e-03],\n",
       "       [ 1.24498238e-02],\n",
       "       [ 1.60326938e-02],\n",
       "       [ 9.39400400e-03],\n",
       "       [ 8.31533190e-03],\n",
       "       [ 1.31435146e-02],\n",
       "       [ 1.62943137e-02],\n",
       "       [ 3.63784861e-03],\n",
       "       [ 1.80420883e-02],\n",
       "       [ 9.97243870e-04],\n",
       "       [ 5.92602394e-03],\n",
       "       [-3.24747738e-03],\n",
       "       [ 6.19466553e-03],\n",
       "       [-4.01152558e-03],\n",
       "       [ 2.76930552e-03],\n",
       "       [ 8.24816235e-03],\n",
       "       [ 6.13615976e-03],\n",
       "       [ 4.02716711e-03],\n",
       "       [ 1.30570487e-03],\n",
       "       [ 5.15392754e-03],\n",
       "       [ 8.89410791e-03],\n",
       "       [ 1.65315603e-02],\n",
       "       [ 1.14743741e-02],\n",
       "       [ 5.71281561e-03],\n",
       "       [ 7.75722238e-03],\n",
       "       [ 9.36845095e-03],\n",
       "       [ 1.01683998e-02],\n",
       "       [ 1.10475753e-02],\n",
       "       [ 4.85424386e-03],\n",
       "       [ 7.82552039e-03],\n",
       "       [ 5.66321606e-03],\n",
       "       [ 1.33965257e-02],\n",
       "       [ 2.45282667e-03],\n",
       "       [ 1.50343116e-03],\n",
       "       [ 8.40172343e-03],\n",
       "       [ 2.93168701e-03],\n",
       "       [ 6.36405170e-03],\n",
       "       [ 6.00500042e-03],\n",
       "       [ 6.07793192e-03],\n",
       "       [-4.08261729e-03],\n",
       "       [ 5.70663956e-03],\n",
       "       [-5.28285878e-03],\n",
       "       [-2.20727931e-02],\n",
       "       [-1.17257035e-02]])"
      ]
     },
     "metadata": {},
     "output_type": "display_data"
    }
   ],
   "source": [
    "# load dataset\n",
    "from pandas import read_csv\n",
    "GDP = read_csv(r\"C:\\Users\\zhouq\\OneDrive - Nanyang Technological University\\FYP\\Codes\\FYP\\GDP_transform.txt\", header = 0, sep = \"\\t\", index_col=0, parse_dates=True, dayfirst=False)\n",
    "\n",
    "GDP = GDP.to_numpy()\n",
    "print(len(GDP))\n",
    "x_train, y_train = GDP[1:200], GDP[2:201]\n",
    "# x_train, x_test = GDP.index[1:int(len(GDP)*0.8)], GDP.index[int(len(GDP)*0.8)+1:]\n",
    "display(y_train)\n"
   ]
  },
  {
   "cell_type": "code",
   "execution_count": 100,
   "metadata": {},
   "outputs": [],
   "source": [
    "from reservoirpy.nodes import Reservoir, Ridge\n",
    "rpy.verbosity(0)  # no need to be too verbose here\n",
    "rpy.set_seed(42)  # make everything reproducible !\n",
    "\n",
    "# offline learning\n",
    "reservoir = Reservoir(120, lr=0.5)\n",
    "ridge = Ridge(ridge=1e-7)\n",
    "\n",
    "esn_model = reservoir >> ridge\n",
    "\n",
    "readout = Ridge(ridge=1e-7)\n",
    "train_states = reservoir.run(x_train, reset=True)\n",
    "readout = readout.fit(train_states, y_train, warmup=10)"
   ]
  },
  {
   "cell_type": "code",
   "execution_count": 101,
   "metadata": {},
   "outputs": [
    {
     "name": "stdout",
     "output_type": "stream",
     "text": [
      "True True True\n"
     ]
    }
   ],
   "source": [
    "esn_model = esn_model.fit(x_train, y_train, warmup=10)\n",
    "print(reservoir.is_initialized, readout.is_initialized, readout.fitted)\n",
    "\n"
   ]
  },
  {
   "cell_type": "code",
   "execution_count": 102,
   "metadata": {},
   "outputs": [],
   "source": [
    "predictions = esn_model.run(GDP[201:-1])\n",
    "predictions = esn_model.fit(x_train, y_train).run(GDP[201:-1])"
   ]
  },
  {
   "cell_type": "code",
   "execution_count": 103,
   "metadata": {},
   "outputs": [
    {
     "data": {
      "image/png": "[encoded data removed]",
      "text/plain": [
       "<Figure size 1000x300 with 1 Axes>"
      ]
     },
     "metadata": {},
     "output_type": "display_data"
    }
   ],
   "source": [
    "import matplotlib.pyplot as plt\n",
    "Y_pred = esn_model.run(GDP[1:200])\n",
    "\n",
    "plt.figure(figsize=(10, 3))\n",
    "plt.title(\"Simple ESN\")\n",
    "plt.xlabel(\"$t$\")\n",
    "plt.plot(Y_pred, label=\"Predicted GDP(t)\", color=\"blue\")\n",
    "plt.plot(GDP[51:], label=\"Real GDP(t+1)\", color=\"red\")\n",
    "plt.legend()\n",
    "plt.show()"
   ]
  },
  {
   "cell_type": "code",
   "execution_count": 105,
   "metadata": {},
   "outputs": [
    {
     "name": "stdout",
     "output_type": "stream",
     "text": [
      "RMSE: 0.052713513255204424 R^2 score: -225.29391800576443\n"
     ]
    }
   ],
   "source": [
    "from reservoirpy.observables import rmse, rsquare\n",
    "\n",
    "print(\"RMSE:\", rmse(GDP[202:], predictions), \"R^2 score:\", rsquare(GDP[202:], predictions))"
   ]
  },
  {
   "cell_type": "markdown",
   "metadata": {},
   "source": [
    "## Using newToolbox_ESN"
   ]
  },
  {
   "cell_type": "code",
   "execution_count": null,
   "metadata": {},
   "outputs": [
    {
     "ename": "ModuleNotFoundError",
     "evalue": "No module named 'pymoo.factory'",
     "output_type": "error",
     "traceback": [
      "\u001b[1;31m---------------------------------------------------------------------------\u001b[0m",
      "\u001b[1;31mModuleNotFoundError\u001b[0m                       Traceback (most recent call last)",
      "Cell \u001b[1;32mIn[1], line 1\u001b[0m\n\u001b[1;32m----> 1\u001b[0m \u001b[38;5;28;01mfrom\u001b[39;00m \u001b[38;5;21;01mnewToolbox_ESN\u001b[39;00m \u001b[38;5;28;01mimport\u001b[39;00m ESN, stateMatrixGenerator\n\u001b[0;32m      2\u001b[0m \u001b[38;5;28;01mfrom\u001b[39;00m \u001b[38;5;21;01mnewToolbox_ESN_Multi\u001b[39;00m \u001b[38;5;28;01mimport\u001b[39;00m ESNMultiFrequency\n",
      "File \u001b[1;32mc:\\Users\\zhouq\\OneDrive - Nanyang Technological University\\FYP\\Codes\\FYP\\newToolbox_ESN.py:26\u001b[0m\n\u001b[0;32m     24\u001b[0m \u001b[38;5;28;01mfrom\u001b[39;00m \u001b[38;5;21;01mpymoo\u001b[39;00m\u001b[38;5;21;01m.\u001b[39;00m\u001b[38;5;21;01mproblems\u001b[39;00m\u001b[38;5;21;01m.\u001b[39;00m\u001b[38;5;21;01mfunctional\u001b[39;00m \u001b[38;5;28;01mimport\u001b[39;00m FunctionalProblem\n\u001b[0;32m     25\u001b[0m \u001b[38;5;28;01mfrom\u001b[39;00m \u001b[38;5;21;01mpymoo\u001b[39;00m\u001b[38;5;21;01m.\u001b[39;00m\u001b[38;5;21;01moptimize\u001b[39;00m \u001b[38;5;28;01mimport\u001b[39;00m minimize\n\u001b[1;32m---> 26\u001b[0m \u001b[38;5;28;01mfrom\u001b[39;00m \u001b[38;5;21;01mpymoo\u001b[39;00m\u001b[38;5;21;01m.\u001b[39;00m\u001b[38;5;21;01mfactory\u001b[39;00m \u001b[38;5;28;01mimport\u001b[39;00m get_termination\n\u001b[0;32m     28\u001b[0m \u001b[38;5;66;03m# ----------------------------------------------------------------\u001b[39;00m\n\u001b[0;32m     29\u001b[0m \u001b[38;5;66;03m# Preamble\u001b[39;00m\n\u001b[0;32m     31\u001b[0m \u001b[38;5;28;01mdef\u001b[39;00m \u001b[38;5;21midentity\u001b[39m(A):\n",
      "\u001b[1;31mModuleNotFoundError\u001b[0m: No module named 'pymoo.factory'"
     ]
    }
   ],
   "source": [
    "from newToolbox_ESN import ESN, stateMatrixGenerator\n",
    "from newToolbox_ESN_Multi import ESNMultiFrequency"
   ]
  }
 ],
 "metadata": {
  "kernelspec": {
   "display_name": "Python 3",
   "language": "python",
   "name": "python3"
  },
  "language_info": {
   "codemirror_mode": {
    "name": "ipython",
    "version": 3
   },
   "file_extension": ".py",
   "mimetype": "text/x-python",
   "name": "python",
   "nbconvert_exporter": "python",
   "pygments_lexer": "ipython3",
   "version": "3.11.5"
  }
 },
 "nbformat": 4,
 "nbformat_minor": 2
}
